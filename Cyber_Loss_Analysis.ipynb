{
 "cells": [
  {
   "cell_type": "markdown",
   "id": "2587602e",
   "metadata": {},
   "source": [
    "\n",
    "# Cyber Crime Data Analysis (Simplified)\n",
    "\n",
    "This notebook analyses the cyber crime losses and complaints dataset using Python and pandas.  \n",
    "The goal is to produce simple, easy‑to‑understand tables and charts showing the top five countries by losses and complaints for each year (2019–2024), along with basic trend and correlation analyses.  \n",
    "All code is heavily commented so that non‑technical users can follow along.\n"
   ]
  },
  {
   "cell_type": "markdown",
   "id": "800c656d-95c1-406d-8912-f0c41ef35981",
   "metadata": {},
   "source": [
    "## Load and coerce"
   ]
  },
  {
   "cell_type": "code",
   "execution_count": null,
   "id": "dacb62a0",
   "metadata": {},
   "outputs": [],
   "source": [
    "\n",
    "import pandas as pd\n",
    "%matplotlib inline\n",
    "import matplotlib.pyplot as plt\n",
    "from IPython.display import Image, display\n",
    "\n",
    "# Load the datasets. These must not be modified directly.\n",
    "df_threats = pd.read_csv('Global_Cybersecurity_Threats_2015-2024.csv')\n",
    "df_indices = pd.read_csv('Cyber_security.csv')\n",
    "df_loss = pd.read_csv('LossFromNetCrime.csv')\n",
    "\n",
    "# Replace missing country names with a placeholder to avoid issues when sorting.\n",
    "df_loss['Country'] = df_loss['Country'].fillna('Unknown')\n",
    "\n",
    "# Convert all numeric columns to numbers (they may already be numbers, but this ensures consistency).\n",
    "numeric_cols = [c for c in df_loss.columns if c != 'Country']\n",
    "df_loss[numeric_cols] = df_loss[numeric_cols].apply(pd.to_numeric, errors='coerce')\n",
    "\n",
    "# Define the years we'll be working with.\n",
    "years = [2019, 2020, 2021, 2022, 2023, 2024]"
   ]
  },
  {
   "cell_type": "markdown",
   "id": "78ef28a7-b67a-4ec6-bc48-644adb6c3f13",
   "metadata": {},
   "source": [
    "## Computing total lossess worldwide"
   ]
  },
  {
   "cell_type": "code",
   "execution_count": null,
   "id": "0efc815a-3a41-4b24-986f-98079a9c75ff",
   "metadata": {},
   "outputs": [],
   "source": [
    "def extract_year(col):\n",
    "    try:\n",
    "        return int(str(col).split(\"_\")[0])\n",
    "    except Exception:\n",
    "        return None\n",
    "\n",
    "loss_columns = sorted([c for c in df_loss.columns if str(c).lower().endswith(\"_losses\")], key=extract_year)\n",
    "comp_columns = sorted([c for c in df_loss.columns if str(c).lower().endswith(\"_complaints\")], key=extract_year)\n",
    "\n",
    "loss_totals = pd.DataFrame({\n",
    "    \"year\": [extract_year(c) for c in loss_columns],\n",
    "    \"total_losses\": [pd.to_numeric(df_loss[c], errors=\"coerce\").sum() for c in loss_columns]\n",
    "}).dropna(subset=[\"year\"]).astype({\"year\": int})\n",
    "\n",
    "comp_totals = pd.DataFrame({\n",
    "    \"year\": [extract_year(c) for c in comp_columns],\n",
    "    \"total_complaints\": [pd.to_numeric(df_loss[c], errors=\"coerce\").sum() for c in comp_columns]\n",
    "}).dropna(subset=[\"year\"]).astype({\"year\": int})\n",
    "\n",
    "totals = pd.merge(loss_totals, comp_totals, on=\"year\", how=\"outer\").sort_values(\"year\")\n",
    "totals"
   ]
  },
  {
   "cell_type": "code",
   "execution_count": null,
   "id": "a8e549e5-ebdb-4785-89d0-4151cf1ae7ea",
   "metadata": {},
   "outputs": [],
   "source": [
    "# GLOBAL LOSSES BY YEAR\n",
    "plt.figure()\n",
    "plt.plot(totals[\"year\"], totals[\"total_losses\"], marker=\"o\")\n",
    "plt.title(\"Global Total Losses by Year\")\n",
    "plt.xlabel(\"Year\")\n",
    "plt.ylabel(\"Total Losses\")\n",
    "plt.tight_layout()\n",
    "plt.show()\n"
   ]
  },
  {
   "cell_type": "code",
   "execution_count": null,
   "id": "98d6e297-13a1-444e-bc61-bcb5afeb4eda",
   "metadata": {},
   "outputs": [],
   "source": [
    "# GLOBAL COMPLAINTS BY YEAR\n",
    "plt.figure()\n",
    "plt.plot(totals[\"year\"], totals[\"total_complaints\"], marker=\"o\")\n",
    "plt.title(\"Global Total Complaints by Year\")\n",
    "plt.xlabel(\"Year\")\n",
    "plt.ylabel(\"Total Complaints\")\n",
    "plt.tight_layout()\n",
    "plt.show()"
   ]
  },
  {
   "cell_type": "markdown",
   "id": "28e0c324-fa36-4113-aea6-0acd7812e862",
   "metadata": {},
   "source": [
    "## Separate DataFrame for TOP5 Countries for Complaints(No. of Attacks)"
   ]
  },
  {
   "cell_type": "code",
   "execution_count": null,
   "id": "72ca2e6b",
   "metadata": {},
   "outputs": [],
   "source": [
    "\n",
    "# Create an empty DataFrame to hold the top five countries for complaints.\n",
    "top5_complaints = pd.DataFrame()\n",
    "\n",
    "# For each year, sort the data by the complaints column in descending order,\n",
    "# pick the top five countries, and store their names in a new column.\n",
    "for year in years:\n",
    "    col_name = f'{year}_Complaints'\n",
    "    # Sort by complaints and take the top five country names.\n",
    "    top_countries = df_loss.sort_values(by=col_name, ascending=False)['Country'].head(5).values\n",
    "    # Assign this list to the corresponding year column in the top5_complaints DataFrame.\n",
    "    top5_complaints[str(year)] = top_countries\n",
    "\n",
    "# Display the resulting top 5 complaints table.\n",
    "top5_complaints\n"
   ]
  },
  {
   "cell_type": "markdown",
   "id": "57da17ef-ff79-448e-9720-0246f8d8d70b",
   "metadata": {},
   "source": [
    "## Separate DataFrame for TOP5 Countries for Losses(in USD)"
   ]
  },
  {
   "cell_type": "code",
   "execution_count": null,
   "id": "9b7c139f",
   "metadata": {},
   "outputs": [],
   "source": [
    "\n",
    "# Create an empty DataFrame to hold the top five countries for losses.\n",
    "top5_losses = pd.DataFrame()\n",
    "\n",
    "# For each year, sort the data by the losses column in descending order,\n",
    "# pick the top five countries, and store their names in a new column.\n",
    "for year in years:\n",
    "    col_name = f'{year}_Losses'\n",
    "    # Sort by losses and take the top five country names.\n",
    "    top_countries = df_loss.sort_values(by=col_name, ascending=False)['Country'].head(5).values\n",
    "    # Assign this list to the corresponding year column in the top5_losses DataFrame.\n",
    "    top5_losses[str(year)] = top_countries\n",
    "\n",
    "# Display the resulting top 5 losses table.\n",
    "top5_losses\n"
   ]
  },
  {
   "cell_type": "markdown",
   "id": "aa96af9f-a738-428d-a906-c520a24e4d0d",
   "metadata": {},
   "source": [
    "## Creating tables for each year 2019 to 2024 + save to .CSV"
   ]
  },
  {
   "cell_type": "code",
   "execution_count": null,
   "id": "2e19666a-25e6-4614-bfe7-57a5436bf7fe",
   "metadata": {},
   "outputs": [],
   "source": [
    "# Build Top 5 tables for each year (complaints and losses)\n",
    "top5_complaints = pd.DataFrame()\n",
    "top5_losses     = pd.DataFrame()\n",
    "\n",
    "for year in [2019, 2020, 2021, 2022, 2023, 2024]:\n",
    "    complaints_col = f'{year}_Complaints'\n",
    "    losses_col     = f'{year}_Losses'\n",
    "\n",
    "    top5_complaints[str(year)] = df_loss.sort_values(by=complaints_col, ascending=False)['Country'].head(5).values\n",
    "    top5_losses[str(year)]     = df_loss.sort_values(by=losses_col,     ascending=False)['Country'].head(5).values\n",
    "\n",
    "# Now save both tables – they are guaranteed to exist\n",
    "top5_complaints.to_csv('top5_complaints_by_year.csv', index=False)\n",
    "top5_losses.to_csv('top5_losses_by_year.csv', index=False)\n",
    "print('Saved top5_complaints_by_year.csv and top5_losses_by_year.csv')\n"
   ]
  },
  {
   "cell_type": "markdown",
   "id": "5f416cb6-386a-4a1b-808e-c98aae904851",
   "metadata": {},
   "source": [
    "## Plot a bar chart - year-by-year (based on the top 5 number of complaints each year)"
   ]
  },
  {
   "cell_type": "code",
   "execution_count": null,
   "id": "149b5f13",
   "metadata": {},
   "outputs": [],
   "source": [
    "\n",
    "# Plot a bar chart for each year showing the top five countries by complaints.\n",
    "# Complaints are shown in millions to keep the numbers readable.\n",
    "\n",
    "for year in years:\n",
    "    col_name = f'{year}_Complaints'\n",
    "    # Select the top five countries for this year.\n",
    "    top5 = df_loss.sort_values(by=col_name, ascending=False).head(5)\n",
    "    countries = top5['Country']\n",
    "    values = top5[col_name] / 1_000_000  # convert to millions\n",
    "    \n",
    "    # Create the bar chart.\n",
    "    plt.figure(figsize=(6, 4))\n",
    "    plt.bar(countries, values)\n",
    "    plt.title(f'Top 5 Countries by Complaints in {year}')\n",
    "    plt.xlabel('Country')\n",
    "    plt.ylabel('Complaints (millions)')\n",
    "    plt.xticks(rotation=45, ha='right')\n",
    "    plt.tight_layout()\n",
    "    plt.show()\n"
   ]
  },
  {
   "cell_type": "markdown",
   "id": "66866b78-33ed-4aa9-82b9-331192e20a10",
   "metadata": {},
   "source": [
    "## Table - total complaints and lossess across all countries year-by-year"
   ]
  },
  {
   "cell_type": "code",
   "execution_count": null,
   "id": "103d08fc",
   "metadata": {},
   "outputs": [],
   "source": [
    "\n",
    "# Calculate total complaints and losses across all countries for each year.\n",
    "totals = []\n",
    "for year in years:\n",
    "    total_complaints = df_loss[f'{year}_Complaints'].sum()\n",
    "    total_losses = df_loss[f'{year}_Losses'].sum()\n",
    "    totals.append({'Year': year, 'Total_Complaints': total_complaints,\n",
    "                   'Total_Losses': total_losses})\n",
    "\n",
    "totals_df = pd.DataFrame(totals)\n",
    "\n",
    "# Compute the change from the previous year (NaN for the first year).\n",
    "totals_df['Complaints_Change'] = totals_df['Total_Complaints'].diff()\n",
    "totals_df['Losses_Change'] = totals_df['Total_Losses'].diff()\n",
    "\n",
    "# Display the totals and changes.\n",
    "totals_df\n"
   ]
  },
  {
   "cell_type": "markdown",
   "id": "58e67efc-851a-4ab8-83aa-9cc401fee8b8",
   "metadata": {},
   "source": [
    "## Correlation between complaints and lossses for each year"
   ]
  },
  {
   "cell_type": "code",
   "execution_count": null,
   "id": "f5db36b6",
   "metadata": {},
   "outputs": [],
   "source": [
    "\n",
    "# Compute the Pearson correlation between complaints and losses for each year.\n",
    "correlations = {}\n",
    "for year in years:\n",
    "    complaints_col = f'{year}_Complaints'\n",
    "    losses_col = f'{year}_Losses'\n",
    "    corr_value = df_loss[complaints_col].corr(df_loss[losses_col])\n",
    "    correlations[year] = corr_value\n",
    "\n",
    "# Convert to a DataFrame for display\n",
    "corr_df = pd.DataFrame(list(correlations.items()), columns=['Year', 'Correlation'])\n",
    "\n",
    "# Display correlation values\n",
    "corr_df\n",
    "\n",
    "# Plot the correlation values\n",
    "plt.figure(figsize=(6, 4))\n",
    "plt.bar(corr_df['Year'].astype(str), corr_df['Correlation'])\n",
    "plt.title('Correlation between Complaints and Losses by Year')\n",
    "plt.xlabel('Year')\n",
    "plt.ylabel('Correlation coefficient')\n",
    "plt.ylim(-1, 1)\n",
    "plt.tight_layout()\n",
    "plt.show()\n"
   ]
  },
  {
   "cell_type": "markdown",
   "id": "48a95af9-cd9f-45e5-a132-42e7cef39323",
   "metadata": {},
   "source": [
    "## Simple prediction (we check for AVG yearly change 2019-2024 and add it to 2024's value)"
   ]
  },
  {
   "cell_type": "code",
   "execution_count": null,
   "id": "bb528677",
   "metadata": {},
   "outputs": [],
   "source": [
    "\n",
    "# We create a simple prediction for 2025 for the countries that frequently appear in the top five.\n",
    "# The idea is to take the average yearly change in losses for each country and add it to 2024’s value.\n",
    "\n",
    "# First, identify the union of all top countries from the top5 tables.\n",
    "top_countries = set()\n",
    "for year in years:\n",
    "    # add top countries by complaints\n",
    "    top_countries.update(df_loss.sort_values(by=f'{year}_Complaints', ascending=False)['Country'].head(5).tolist())\n",
    "    # add top countries by losses\n",
    "    top_countries.update(df_loss.sort_values(by=f'{year}_Losses', ascending=False)['Country'].head(5).tolist())\n",
    "\n",
    "top_countries = sorted(top_countries)\n",
    "\n",
    "# Prepare predictions\n",
    "predictions = []\n",
    "for country in top_countries:\n",
    "    # Gather the past losses for this country\n",
    "    losses = []\n",
    "    for year in years:\n",
    "        losses.append(df_loss.loc[df_loss['Country'] == country, f'{year}_Losses'].values[0])\n",
    "    \n",
    "    # Compute the year‑to‑year differences\n",
    "    diffs = pd.Series(losses).diff().dropna()\n",
    "    # If there is no variance (e.g., constant), set avg_diff to zero\n",
    "    avg_diff = diffs.mean() if not diffs.empty else 0\n",
    "    \n",
    "    # Predicted 2025 losses = 2024 losses + average yearly difference\n",
    "    predicted_loss_2025 = losses[-1] + avg_diff\n",
    "    \n",
    "    predictions.append({'Country': country, 'Losses_2024': losses[-1],\n",
    "                         'Predicted_Losses_2025': predicted_loss_2025})\n",
    "\n",
    "pred_df = pd.DataFrame(predictions)\n",
    "\n",
    "# Display the predictions\n",
    "pred_df.sort_values(by='Predicted_Losses_2025', ascending=False)"
   ]
  },
  {
   "cell_type": "markdown",
   "id": "ca2fceff-12aa-42ce-af7d-0cbfcfd1a1ac",
   "metadata": {},
   "source": [
    "## Plot line chart + prediction for 2025"
   ]
  },
  {
   "cell_type": "code",
   "execution_count": null,
   "id": "056fa860-a954-43fc-92ed-23dac7704341",
   "metadata": {},
   "outputs": [],
   "source": [
    "# Plot a line chart showing actual losses (2019–2024) and a dotted segment to 2025\n",
    "# for each country in pred_df.  Assumes `years` = [2019, …, 2024].\n",
    "\n",
    "for country in pred_df['Country']:\n",
    "    # Collect actual losses for 2019–2024\n",
    "    actual_losses = [df_loss.loc[df_loss['Country'] == country, f'{year}_Losses'].values[0] for year in years]\n",
    "    # Convert to billions\n",
    "    actual_losses_b = [val / 1_000_000_000 for val in actual_losses]\n",
    "\n",
    "    # Get predicted 2025 value (also convert to billions)\n",
    "    predicted_2025_b = pred_df.loc[pred_df['Country'] == country, 'Predicted_Losses_2025'].values[0] / 1_000_000_000\n",
    "\n",
    "    # Plot the solid line for actual data\n",
    "    line, = plt.plot(years, actual_losses_b, marker='o', label=country)\n",
    "\n",
    "    # Plot the dotted line segment from 2024 to the predicted 2025 point, using the same color\n",
    "    plt.plot([years[-1], 2025], [actual_losses_b[-1], predicted_2025_b],\n",
    "             linestyle='--', marker='o', color=line.get_color(), label='_nolegend_')\n",
    "\n",
    "plt.title('Actual Losses (2019–2024) and Predicted Losses (2025)')\n",
    "plt.xlabel('Year')\n",
    "plt.ylabel('Losses (billions USD)')\n",
    "plt.legend(bbox_to_anchor=(1.05, 1), loc='upper left')\n",
    "plt.tight_layout()\n",
    "plt.show()"
   ]
  },
  {
   "cell_type": "markdown",
   "id": "0d5dc051-7720-4e56-94e2-5442c5b8c6b5",
   "metadata": {},
   "source": [
    "## Prediction narrowed down to TOP countries"
   ]
  },
  {
   "cell_type": "code",
   "execution_count": null,
   "id": "24b4c83d-e10e-4477-9f45-30a68aab2fe2",
   "metadata": {},
   "outputs": [],
   "source": [
    "import pandas as pd\n",
    "import numpy as np\n",
    "import matplotlib.pyplot as plt\n",
    "\n",
    "# 1) Determine top countries by total losses and total complaints\n",
    "years = [2019, 2020, 2021, 2022, 2023, 2024]\n",
    "\n",
    "# Compute total losses and complaints across all years for each country\n",
    "df_loss['Total_Losses']     = df_loss[[f'{y}_Losses'     for y in years]].sum(axis=1)\n",
    "df_loss['Total_Complaints'] = df_loss[[f'{y}_Complaints' for y in years]].sum(axis=1)\n",
    "\n",
    "# Extract top-5 lists based on these totals\n",
    "top5_by_losses     = df_loss.nlargest(5, 'Total_Losses')['Country'].tolist()\n",
    "top5_by_complaints = df_loss.nlargest(5, 'Total_Complaints')['Country'].tolist()\n",
    "\n",
    "# Combine the two lists (remove duplicates)\n",
    "selected_countries = sorted(set(top5_by_losses + top5_by_complaints))\n",
    "\n",
    "# 2) Prepare predictions using a simple average-change method\n",
    "predictions = []\n",
    "for country in selected_countries:\n",
    "    # Gather the six years of losses for this country\n",
    "    losses = [df_loss.loc[df_loss['Country'] == country, f'{year}_Losses'].values[0] for year in years]\n",
    "    \n",
    "    # Compute year-to-year differences and their average\n",
    "    diffs = np.diff(losses)  # array of [Loss2020 - Loss2019, Loss2021 - Loss2020, ...]\n",
    "    avg_diff = diffs.mean() if len(diffs) > 0 else 0\n",
    "    \n",
    "    # Predict 2025 losses by adding the average difference to the 2024 value\n",
    "    predicted_2025 = losses[-1] + avg_diff\n",
    "    \n",
    "    predictions.append({\n",
    "        'Country': country,\n",
    "        'Losses_2024': losses[-1],\n",
    "        'Predicted_Losses_2025': predicted_2025\n",
    "    })\n",
    "\n",
    "pred_df = pd.DataFrame(predictions)\n",
    "\n",
    "# 3) Plot actual vs. predicted losses for each selected country\n",
    "plt.figure(figsize=(9,5))\n",
    "for country in selected_countries:\n",
    "    # Actual 2019–2024 losses (converted to billions)\n",
    "    actual_losses = [df_loss.loc[df_loss['Country'] == country, f'{year}_Losses'].values[0] for year in years]\n",
    "    actual_losses_b = [val / 1e9 for val in actual_losses]\n",
    "    \n",
    "    # Plot solid line for actual data\n",
    "    line, = plt.plot(years, actual_losses_b, marker='o', label=f'{country}')\n",
    "    \n",
    "    # Plot dotted segment to predicted 2025 (same colour)\n",
    "    pred_2025_b = pred_df.loc[pred_df['Country'] == country, 'Predicted_Losses_2025'].values[0] / 1e9\n",
    "    plt.plot([years[-1], 2025], [actual_losses_b[-1], pred_2025_b],\n",
    "             marker='o', linestyle='--', color=line.get_color(), label='_nolegend_')\n",
    "\n",
    "plt.title('Actual Losses (2019–2024) with Simple 2025 Prediction')\n",
    "plt.xlabel('Year')\n",
    "plt.ylabel('Losses (billions USD)')\n",
    "plt.legend()\n",
    "plt.tight_layout()\n",
    "plt.show()"
   ]
  },
  {
   "cell_type": "code",
   "execution_count": null,
   "id": "017ad962-997c-42fb-909a-958fa3adf404",
   "metadata": {},
   "outputs": [],
   "source": []
  }
 ],
 "metadata": {
  "kernelspec": {
   "display_name": "Python 3 (ipykernel)",
   "language": "python",
   "name": "python3"
  },
  "language_info": {
   "codemirror_mode": {
    "name": "ipython",
    "version": 3
   },
   "file_extension": ".py",
   "mimetype": "text/x-python",
   "name": "python",
   "nbconvert_exporter": "python",
   "pygments_lexer": "ipython3",
   "version": "3.13.7"
  }
 },
 "nbformat": 4,
 "nbformat_minor": 5
}
