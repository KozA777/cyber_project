{
 "cells": [
  {
   "cell_type": "code",
   "execution_count": 1,
   "id": "5ab32a9e-6540-41da-acc0-e23fb374a576",
   "metadata": {},
   "outputs": [],
   "source": [
    "# We tell Python which tools we want to use.\n",
    "import warnings\n",
    "warnings.filterwarnings('ignore')  # hide non-critical warnings\n",
    "\n",
    "import pandas as pd   # tables and data cleaning\n",
    "import numpy as np    # math helpers\n",
    "import matplotlib.pyplot as plt  # simple charts\n",
    "\n",
    "# If you get an error \"ModuleNotFoundError: No module named 'sklearn'\",\n",
    "# run this in a terminal:  pip install scikit-learn\n",
    "from sklearn.linear_model import LinearRegression\n",
    "from sklearn.metrics import r2_score, mean_absolute_error, mean_squared_error\n",
    "\n",
    "pd.set_option('display.float_format', lambda x: f'{x:,.2f}')  # pretty numbers\n"
   ]
  },
  {
   "cell_type": "markdown",
   "id": "1e4e50bd-2c77-406c-a4cc-b75c8f50cc54",
   "metadata": {},
   "source": [
    "## Load the CSV and see the data"
   ]
  },
  {
   "cell_type": "code",
   "execution_count": 2,
   "id": "b7a748bd-0e5d-4f7a-91ae-160882c8107c",
   "metadata": {},
   "outputs": [
    {
     "name": "stdout",
     "output_type": "stream",
     "text": [
      "Shape: (117, 13)\n"
     ]
    },
    {
     "data": {
      "text/html": [
       "<div>\n",
       "<style scoped>\n",
       "    .dataframe tbody tr th:only-of-type {\n",
       "        vertical-align: middle;\n",
       "    }\n",
       "\n",
       "    .dataframe tbody tr th {\n",
       "        vertical-align: top;\n",
       "    }\n",
       "\n",
       "    .dataframe thead th {\n",
       "        text-align: right;\n",
       "    }\n",
       "</style>\n",
       "<table border=\"1\" class=\"dataframe\">\n",
       "  <thead>\n",
       "    <tr style=\"text-align: right;\">\n",
       "      <th></th>\n",
       "      <th>Country</th>\n",
       "      <th>2019_Complaints</th>\n",
       "      <th>2019_Losses</th>\n",
       "      <th>2020_Complaints</th>\n",
       "      <th>2020_Losses</th>\n",
       "      <th>2021_Complaints</th>\n",
       "      <th>2021_Losses</th>\n",
       "      <th>2022_Complaints</th>\n",
       "      <th>2022_Losses</th>\n",
       "      <th>2023_Complaints</th>\n",
       "      <th>2023_Losses</th>\n",
       "      <th>2024_Complaints</th>\n",
       "      <th>2024_Losses</th>\n",
       "    </tr>\n",
       "  </thead>\n",
       "  <tbody>\n",
       "    <tr>\n",
       "      <th>0</th>\n",
       "      <td>PR</td>\n",
       "      <td>655</td>\n",
       "      <td>5929974</td>\n",
       "      <td>1338</td>\n",
       "      <td>7209755</td>\n",
       "      <td>1785</td>\n",
       "      <td>9463928</td>\n",
       "      <td>1594</td>\n",
       "      <td>17211758</td>\n",
       "      <td>1817</td>\n",
       "      <td>21018302</td>\n",
       "      <td>1974</td>\n",
       "      <td>31545772</td>\n",
       "    </tr>\n",
       "    <tr>\n",
       "      <th>1</th>\n",
       "      <td>PS</td>\n",
       "      <td>1784</td>\n",
       "      <td>22483591</td>\n",
       "      <td>2890</td>\n",
       "      <td>25423219</td>\n",
       "      <td>3352</td>\n",
       "      <td>48918464</td>\n",
       "      <td>3210</td>\n",
       "      <td>57796003</td>\n",
       "      <td>3378</td>\n",
       "      <td>69292891</td>\n",
       "      <td>3811</td>\n",
       "      <td>66002407</td>\n",
       "    </tr>\n",
       "    <tr>\n",
       "      <th>2</th>\n",
       "      <td>PT</td>\n",
       "      <td>1119</td>\n",
       "      <td>13870074</td>\n",
       "      <td>2020</td>\n",
       "      <td>12391290</td>\n",
       "      <td>2102</td>\n",
       "      <td>18205913</td>\n",
       "      <td>1918</td>\n",
       "      <td>30859319</td>\n",
       "      <td>2178</td>\n",
       "      <td>28700418</td>\n",
       "      <td>2209</td>\n",
       "      <td>40192274</td>\n",
       "    </tr>\n",
       "    <tr>\n",
       "      <th>3</th>\n",
       "      <td>PY</td>\n",
       "      <td>1913</td>\n",
       "      <td>10967865</td>\n",
       "      <td>2992</td>\n",
       "      <td>13815152</td>\n",
       "      <td>3188</td>\n",
       "      <td>26677869</td>\n",
       "      <td>3768</td>\n",
       "      <td>40114594</td>\n",
       "      <td>3487</td>\n",
       "      <td>33579643</td>\n",
       "      <td>2678</td>\n",
       "      <td>45168957</td>\n",
       "    </tr>\n",
       "    <tr>\n",
       "      <th>4</th>\n",
       "      <td>AE</td>\n",
       "      <td>5503</td>\n",
       "      <td>48101706</td>\n",
       "      <td>7390</td>\n",
       "      <td>81178182</td>\n",
       "      <td>10164</td>\n",
       "      <td>131934602</td>\n",
       "      <td>10042</td>\n",
       "      <td>187062157</td>\n",
       "      <td>11034</td>\n",
       "      <td>244238485</td>\n",
       "      <td>12071</td>\n",
       "      <td>280815215</td>\n",
       "    </tr>\n",
       "  </tbody>\n",
       "</table>\n",
       "</div>"
      ],
      "text/plain": [
       "  Country  2019_Complaints  2019_Losses  2020_Complaints  2020_Losses  \\\n",
       "0      PR              655      5929974             1338      7209755   \n",
       "1      PS             1784     22483591             2890     25423219   \n",
       "2      PT             1119     13870074             2020     12391290   \n",
       "3      PY             1913     10967865             2992     13815152   \n",
       "4      AE             5503     48101706             7390     81178182   \n",
       "\n",
       "   2021_Complaints  2021_Losses  2022_Complaints  2022_Losses  \\\n",
       "0             1785      9463928             1594     17211758   \n",
       "1             3352     48918464             3210     57796003   \n",
       "2             2102     18205913             1918     30859319   \n",
       "3             3188     26677869             3768     40114594   \n",
       "4            10164    131934602            10042    187062157   \n",
       "\n",
       "   2023_Complaints  2023_Losses  2024_Complaints  2024_Losses  \n",
       "0             1817     21018302             1974     31545772  \n",
       "1             3378     69292891             3811     66002407  \n",
       "2             2178     28700418             2209     40192274  \n",
       "3             3487     33579643             2678     45168957  \n",
       "4            11034    244238485            12071    280815215  "
      ]
     },
     "execution_count": 2,
     "metadata": {},
     "output_type": "execute_result"
    }
   ],
   "source": [
    "# Read the CSV file into a pandas DataFrame (a table).\n",
    "PATH = \"LossFromNetCrime(original).csv\"\n",
    "df = pd.read_csv(PATH)  # default encoding is utf-8\n",
    "\n",
    "# Look at the shape (rows, columns) and the first 5 rows.\n",
    "print(\"Shape:\", df.shape)\n",
    "df.head()\n"
   ]
  },
  {
   "cell_type": "markdown",
   "id": "f3dd6890-06ac-4985-917b-885b06b6f944",
   "metadata": {},
   "source": [
    "## Basic checks and actual data cleaning"
   ]
  },
  {
   "cell_type": "code",
   "execution_count": 3,
   "id": "7d912b33-18e7-47ca-a082-04890ede7222",
   "metadata": {},
   "outputs": [
    {
     "name": "stdout",
     "output_type": "stream",
     "text": [
      "Missing values per column:\n",
      " Country            1\n",
      "2019_Complaints    0\n",
      "2019_Losses        0\n",
      "2020_Complaints    0\n",
      "2020_Losses        0\n",
      "2021_Complaints    0\n",
      "2021_Losses        0\n",
      "2022_Complaints    0\n",
      "2022_Losses        0\n",
      "2023_Complaints    0\n",
      "2023_Losses        0\n",
      "2024_Complaints    0\n",
      "2024_Losses        0\n",
      "dtype: int64\n",
      "\n",
      "Data types:\n",
      " Country            object\n",
      "2019_Complaints     int64\n",
      "2019_Losses         int64\n",
      "2020_Complaints     int64\n",
      "2020_Losses         int64\n",
      "2021_Complaints     int64\n",
      "2021_Losses         int64\n",
      "2022_Complaints     int64\n",
      "2022_Losses         int64\n",
      "2023_Complaints     int64\n",
      "2023_Losses         int64\n",
      "2024_Complaints     int64\n",
      "2024_Losses         int64\n",
      "dtype: object\n"
     ]
    },
    {
     "data": {
      "text/html": [
       "<div>\n",
       "<style scoped>\n",
       "    .dataframe tbody tr th:only-of-type {\n",
       "        vertical-align: middle;\n",
       "    }\n",
       "\n",
       "    .dataframe tbody tr th {\n",
       "        vertical-align: top;\n",
       "    }\n",
       "\n",
       "    .dataframe thead th {\n",
       "        text-align: right;\n",
       "    }\n",
       "</style>\n",
       "<table border=\"1\" class=\"dataframe\">\n",
       "  <thead>\n",
       "    <tr style=\"text-align: right;\">\n",
       "      <th></th>\n",
       "      <th>2019_Complaints</th>\n",
       "      <th>2019_Losses</th>\n",
       "      <th>2020_Complaints</th>\n",
       "      <th>2020_Losses</th>\n",
       "      <th>2021_Complaints</th>\n",
       "      <th>2021_Losses</th>\n",
       "      <th>2022_Complaints</th>\n",
       "      <th>2022_Losses</th>\n",
       "      <th>2023_Complaints</th>\n",
       "      <th>2023_Losses</th>\n",
       "      <th>2024_Complaints</th>\n",
       "      <th>2024_Losses</th>\n",
       "    </tr>\n",
       "  </thead>\n",
       "  <tbody>\n",
       "    <tr>\n",
       "      <th>count</th>\n",
       "      <td>117.00</td>\n",
       "      <td>117.00</td>\n",
       "      <td>117.00</td>\n",
       "      <td>117.00</td>\n",
       "      <td>117.00</td>\n",
       "      <td>117.00</td>\n",
       "      <td>117.00</td>\n",
       "      <td>117.00</td>\n",
       "      <td>117.00</td>\n",
       "      <td>117.00</td>\n",
       "      <td>117.00</td>\n",
       "      <td>117.00</td>\n",
       "    </tr>\n",
       "    <tr>\n",
       "      <th>mean</th>\n",
       "      <td>24,650.38</td>\n",
       "      <td>236,637,011.62</td>\n",
       "      <td>43,248.50</td>\n",
       "      <td>281,182,227.68</td>\n",
       "      <td>45,730.71</td>\n",
       "      <td>471,280,297.50</td>\n",
       "      <td>42,983.98</td>\n",
       "      <td>719,554,651.11</td>\n",
       "      <td>45,504.66</td>\n",
       "      <td>858,994,659.14</td>\n",
       "      <td>50,733.81</td>\n",
       "      <td>1,013,898,175.35</td>\n",
       "    </tr>\n",
       "    <tr>\n",
       "      <th>std</th>\n",
       "      <td>63,976.71</td>\n",
       "      <td>508,724,719.20</td>\n",
       "      <td>112,412.52</td>\n",
       "      <td>603,911,435.92</td>\n",
       "      <td>125,357.18</td>\n",
       "      <td>1,042,950,534.26</td>\n",
       "      <td>112,053.59</td>\n",
       "      <td>1,565,846,038.45</td>\n",
       "      <td>116,211.49</td>\n",
       "      <td>1,924,353,301.60</td>\n",
       "      <td>133,450.37</td>\n",
       "      <td>2,229,037,404.52</td>\n",
       "    </tr>\n",
       "    <tr>\n",
       "      <th>min</th>\n",
       "      <td>216.00</td>\n",
       "      <td>2,498,015.00</td>\n",
       "      <td>362.00</td>\n",
       "      <td>2,673,181.00</td>\n",
       "      <td>391.00</td>\n",
       "      <td>4,362,630.00</td>\n",
       "      <td>458.00</td>\n",
       "      <td>6,648,059.00</td>\n",
       "      <td>400.00</td>\n",
       "      <td>8,907,146.00</td>\n",
       "      <td>330.00</td>\n",
       "      <td>9,792,860.00</td>\n",
       "    </tr>\n",
       "    <tr>\n",
       "      <th>25%</th>\n",
       "      <td>1,119.00</td>\n",
       "      <td>11,786,077.00</td>\n",
       "      <td>1,937.00</td>\n",
       "      <td>13,815,152.00</td>\n",
       "      <td>2,102.00</td>\n",
       "      <td>22,863,562.00</td>\n",
       "      <td>1,918.00</td>\n",
       "      <td>33,495,225.00</td>\n",
       "      <td>2,280.00</td>\n",
       "      <td>41,315,061.00</td>\n",
       "      <td>2,253.00</td>\n",
       "      <td>47,876,570.00</td>\n",
       "    </tr>\n",
       "    <tr>\n",
       "      <th>50%</th>\n",
       "      <td>5,156.00</td>\n",
       "      <td>45,713,939.00</td>\n",
       "      <td>8,187.00</td>\n",
       "      <td>45,286,391.00</td>\n",
       "      <td>9,415.00</td>\n",
       "      <td>100,042,024.00</td>\n",
       "      <td>8,819.00</td>\n",
       "      <td>127,649,437.00</td>\n",
       "      <td>9,527.00</td>\n",
       "      <td>163,144,740.00</td>\n",
       "      <td>9,251.00</td>\n",
       "      <td>187,551,761.00</td>\n",
       "    </tr>\n",
       "    <tr>\n",
       "      <th>75%</th>\n",
       "      <td>16,525.00</td>\n",
       "      <td>202,462,502.00</td>\n",
       "      <td>28,232.00</td>\n",
       "      <td>212,529,097.00</td>\n",
       "      <td>30,367.00</td>\n",
       "      <td>400,343,277.00</td>\n",
       "      <td>29,642.00</td>\n",
       "      <td>605,452,580.00</td>\n",
       "      <td>31,255.00</td>\n",
       "      <td>642,098,116.00</td>\n",
       "      <td>31,525.00</td>\n",
       "      <td>803,018,708.00</td>\n",
       "    </tr>\n",
       "    <tr>\n",
       "      <th>max</th>\n",
       "      <td>449,305.00</td>\n",
       "      <td>3,302,744,547.00</td>\n",
       "      <td>796,395.00</td>\n",
       "      <td>3,906,715,208.00</td>\n",
       "      <td>940,125.00</td>\n",
       "      <td>6,466,618,579.00</td>\n",
       "      <td>769,205.00</td>\n",
       "      <td>10,304,392,551.00</td>\n",
       "      <td>876,894.00</td>\n",
       "      <td>11,916,782,073.00</td>\n",
       "      <td>946,966.00</td>\n",
       "      <td>14,457,011,740.00</td>\n",
       "    </tr>\n",
       "  </tbody>\n",
       "</table>\n",
       "</div>"
      ],
      "text/plain": [
       "       2019_Complaints      2019_Losses  2020_Complaints      2020_Losses  \\\n",
       "count           117.00           117.00           117.00           117.00   \n",
       "mean         24,650.38   236,637,011.62        43,248.50   281,182,227.68   \n",
       "std          63,976.71   508,724,719.20       112,412.52   603,911,435.92   \n",
       "min             216.00     2,498,015.00           362.00     2,673,181.00   \n",
       "25%           1,119.00    11,786,077.00         1,937.00    13,815,152.00   \n",
       "50%           5,156.00    45,713,939.00         8,187.00    45,286,391.00   \n",
       "75%          16,525.00   202,462,502.00        28,232.00   212,529,097.00   \n",
       "max         449,305.00 3,302,744,547.00       796,395.00 3,906,715,208.00   \n",
       "\n",
       "       2021_Complaints      2021_Losses  2022_Complaints       2022_Losses  \\\n",
       "count           117.00           117.00           117.00            117.00   \n",
       "mean         45,730.71   471,280,297.50        42,983.98    719,554,651.11   \n",
       "std         125,357.18 1,042,950,534.26       112,053.59  1,565,846,038.45   \n",
       "min             391.00     4,362,630.00           458.00      6,648,059.00   \n",
       "25%           2,102.00    22,863,562.00         1,918.00     33,495,225.00   \n",
       "50%           9,415.00   100,042,024.00         8,819.00    127,649,437.00   \n",
       "75%          30,367.00   400,343,277.00        29,642.00    605,452,580.00   \n",
       "max         940,125.00 6,466,618,579.00       769,205.00 10,304,392,551.00   \n",
       "\n",
       "       2023_Complaints       2023_Losses  2024_Complaints       2024_Losses  \n",
       "count           117.00            117.00           117.00            117.00  \n",
       "mean         45,504.66    858,994,659.14        50,733.81  1,013,898,175.35  \n",
       "std         116,211.49  1,924,353,301.60       133,450.37  2,229,037,404.52  \n",
       "min             400.00      8,907,146.00           330.00      9,792,860.00  \n",
       "25%           2,280.00     41,315,061.00         2,253.00     47,876,570.00  \n",
       "50%           9,527.00    163,144,740.00         9,251.00    187,551,761.00  \n",
       "75%          31,255.00    642,098,116.00        31,525.00    803,018,708.00  \n",
       "max         876,894.00 11,916,782,073.00       946,966.00 14,457,011,740.00  "
      ]
     },
     "execution_count": 3,
     "metadata": {},
     "output_type": "execute_result"
    }
   ],
   "source": [
    "# 1) Check any missing values per column.\n",
    "print(\"Missing values per column:\\n\", df.isna().sum())\n",
    "\n",
    "# 2) Fix missing Country so grouping works later.\n",
    "df['Country'] = df['Country'].fillna('Unknown')\n",
    "\n",
    "# 3) Ensure all numeric columns are truly numbers (not strings).\n",
    "num_cols = [c for c in df.columns if c.endswith('_Complaints') or c.endswith('_Losses')]\n",
    "for c in num_cols:\n",
    "    # If the file ever had commas like \"12,345\", uncomment the next line:\n",
    "    # df[c] = df[c].astype(str).str.replace(',', '', regex=False)\n",
    "    df[c] = pd.to_numeric(df[c], errors='raise')\n",
    "\n",
    "# 4) Confirm data types.\n",
    "print(\"\\nData types:\\n\", df.dtypes)\n",
    "\n",
    "# 5) Quick overall stats (count, mean, std, min, max...) on numeric columns.\n",
    "df.describe()\n"
   ]
  },
  {
   "cell_type": "markdown",
   "id": "00a28bf7-eff6-4e43-9cd7-30dee775621b",
   "metadata": {},
   "source": [
    "## Make a tidy/long table (easier for analysis)"
   ]
  },
  {
   "cell_type": "code",
   "execution_count": 4,
   "id": "372f788c-b7f9-41ff-8cfa-4218965c1564",
   "metadata": {},
   "outputs": [
    {
     "name": "stdout",
     "output_type": "stream",
     "text": [
      "long_df shape: (702, 7)\n"
     ]
    },
    {
     "data": {
      "text/html": [
       "<div>\n",
       "<style scoped>\n",
       "    .dataframe tbody tr th:only-of-type {\n",
       "        vertical-align: middle;\n",
       "    }\n",
       "\n",
       "    .dataframe tbody tr th {\n",
       "        vertical-align: top;\n",
       "    }\n",
       "\n",
       "    .dataframe thead th {\n",
       "        text-align: right;\n",
       "    }\n",
       "</style>\n",
       "<table border=\"1\" class=\"dataframe\">\n",
       "  <thead>\n",
       "    <tr style=\"text-align: right;\">\n",
       "      <th></th>\n",
       "      <th>Country</th>\n",
       "      <th>Year</th>\n",
       "      <th>Complaints</th>\n",
       "      <th>Losses</th>\n",
       "      <th>Complaints_M</th>\n",
       "      <th>Losses_B</th>\n",
       "      <th>Loss_per_Complaint</th>\n",
       "    </tr>\n",
       "  </thead>\n",
       "  <tbody>\n",
       "    <tr>\n",
       "      <th>0</th>\n",
       "      <td>PR</td>\n",
       "      <td>2019</td>\n",
       "      <td>655</td>\n",
       "      <td>5929974</td>\n",
       "      <td>0.00</td>\n",
       "      <td>0.01</td>\n",
       "      <td>9,053.40</td>\n",
       "    </tr>\n",
       "    <tr>\n",
       "      <th>1</th>\n",
       "      <td>PS</td>\n",
       "      <td>2019</td>\n",
       "      <td>1784</td>\n",
       "      <td>22483591</td>\n",
       "      <td>0.00</td>\n",
       "      <td>0.02</td>\n",
       "      <td>12,602.91</td>\n",
       "    </tr>\n",
       "    <tr>\n",
       "      <th>2</th>\n",
       "      <td>PT</td>\n",
       "      <td>2019</td>\n",
       "      <td>1119</td>\n",
       "      <td>13870074</td>\n",
       "      <td>0.00</td>\n",
       "      <td>0.01</td>\n",
       "      <td>12,395.06</td>\n",
       "    </tr>\n",
       "    <tr>\n",
       "      <th>3</th>\n",
       "      <td>PY</td>\n",
       "      <td>2019</td>\n",
       "      <td>1913</td>\n",
       "      <td>10967865</td>\n",
       "      <td>0.00</td>\n",
       "      <td>0.01</td>\n",
       "      <td>5,733.33</td>\n",
       "    </tr>\n",
       "    <tr>\n",
       "      <th>4</th>\n",
       "      <td>AE</td>\n",
       "      <td>2019</td>\n",
       "      <td>5503</td>\n",
       "      <td>48101706</td>\n",
       "      <td>0.01</td>\n",
       "      <td>0.05</td>\n",
       "      <td>8,741.00</td>\n",
       "    </tr>\n",
       "  </tbody>\n",
       "</table>\n",
       "</div>"
      ],
      "text/plain": [
       "  Country  Year  Complaints    Losses  Complaints_M  Losses_B  \\\n",
       "0      PR  2019         655   5929974          0.00      0.01   \n",
       "1      PS  2019        1784  22483591          0.00      0.02   \n",
       "2      PT  2019        1119  13870074          0.00      0.01   \n",
       "3      PY  2019        1913  10967865          0.00      0.01   \n",
       "4      AE  2019        5503  48101706          0.01      0.05   \n",
       "\n",
       "   Loss_per_Complaint  \n",
       "0            9,053.40  \n",
       "1           12,602.91  \n",
       "2           12,395.06  \n",
       "3            5,733.33  \n",
       "4            8,741.00  "
      ]
     },
     "execution_count": 4,
     "metadata": {},
     "output_type": "execute_result"
    }
   ],
   "source": [
    "# We want one row per Country-Year with 4 columns:\n",
    "# Country | Year | Complaints | Losses\n",
    "\n",
    "years = [2019, 2020, 2021, 2022, 2023, 2024]\n",
    "\n",
    "rows = []\n",
    "for y in years:\n",
    "    rows.append(pd.DataFrame({\n",
    "        'Country': df['Country'],\n",
    "        'Year': y,\n",
    "        'Complaints': df[f'{y}_Complaints'],\n",
    "        'Losses': df[f'{y}_Losses']\n",
    "    }))\n",
    "long_df = pd.concat(rows, ignore_index=True)\n",
    "\n",
    "# Helpful scaled versions for readability\n",
    "long_df['Complaints_M'] = long_df['Complaints'] / 1_000_000   # millions\n",
    "long_df['Losses_B']     = long_df['Losses'] / 1_000_000_000   # billions\n",
    "\n",
    "# A “severity” metric: average loss per complaint\n",
    "long_df['Loss_per_Complaint'] = np.where(\n",
    "    long_df['Complaints'] > 0,\n",
    "    long_df['Losses'] / long_df['Complaints'],\n",
    "    np.nan\n",
    ")\n",
    "\n",
    "print(\"long_df shape:\", long_df.shape)\n",
    "long_df.head()\n"
   ]
  },
  {
   "cell_type": "markdown",
   "id": "9a519b21-a9c6-4ee5-9917-2f528a03d1b1",
   "metadata": {},
   "source": [
    "## Yearly totals + year-over-year change"
   ]
  },
  {
   "cell_type": "markdown",
   "id": "12a7fcef-bab4-4746-801e-03b87c95d71c",
   "metadata": {},
   "source": [
    "Year-over-Year puts both series in percent, so they're directly comparable."
   ]
  },
  {
   "cell_type": "code",
   "execution_count": 5,
   "id": "19788265-6963-4201-adb0-1e52701e5bee",
   "metadata": {},
   "outputs": [
    {
     "name": "stdout",
     "output_type": "stream",
     "text": [
      "Yearly totals (with scaled units):\n",
      "      Complaints        Losses  Complaints_M  Losses_B\n",
      "Year                                                  \n",
      "2019     2884094   27686530359          2.88     27.69\n",
      "2020     5060074   32898320639          5.06     32.90\n",
      "2021     5350493   55139794808          5.35     55.14\n",
      "2022     5029126   84187894180          5.03     84.19\n",
      "2023     5324045  100502375119          5.32    100.50\n",
      "2024     5935856  118626086516          5.94    118.63\n",
      "\n",
      "YoY change (%):\n",
      "      Complaints  Losses\n",
      "Year                    \n",
      "2019         NaN     NaN\n",
      "2020       75.45   18.82\n",
      "2021        5.74   67.61\n",
      "2022       -6.01   52.68\n",
      "2023        5.86   19.38\n",
      "2024       11.49   18.03\n"
     ]
    }
   ],
   "source": [
    "# Sum across countries to get global totals per year\n",
    "yearly = long_df.groupby('Year', as_index=True).agg(\n",
    "    Complaints=('Complaints', 'sum'),\n",
    "    Losses=('Losses', 'sum')\n",
    ")\n",
    "\n",
    "# Also compute scaled units\n",
    "yearly['Complaints_M'] = yearly['Complaints'] / 1_000_000\n",
    "yearly['Losses_B']     = yearly['Losses'] / 1_000_000_000\n",
    "\n",
    "# YoY change in percent (how much did it grow vs last year?)\n",
    "yoy_pct = yearly[['Complaints','Losses']].pct_change() * 100\n",
    "\n",
    "print(\"Yearly totals (with scaled units):\")\n",
    "print(yearly)\n",
    "\n",
    "print(\"\\nYoY change (%):\")\n",
    "print(yoy_pct.round(2))\n"
   ]
  },
  {
   "cell_type": "markdown",
   "id": "0a33f7da-2f69-4c3a-9800-e06f391a4578",
   "metadata": {},
   "source": [
    "## Descriptive stats (simple)"
   ]
  },
  {
   "cell_type": "code",
   "execution_count": 6,
   "id": "eb945592-8a55-46bd-8574-4c15f4aa305a",
   "metadata": {},
   "outputs": [
    {
     "name": "stdout",
     "output_type": "stream",
     "text": [
      "Descriptive stats (scaled units):\n",
      "       Complaints_M  Losses_B  Loss_per_Complaint\n",
      "count        702.00    702.00              702.00\n",
      "mean           0.04      0.60           16,126.42\n",
      "std            0.11      1.49           10,538.80\n",
      "min            0.00      0.00            2,961.32\n",
      "25%            0.00      0.03            8,809.30\n",
      "50%            0.01      0.10           13,338.16\n",
      "75%            0.03      0.43           20,324.04\n",
      "max            0.95     14.46           77,078.40\n"
     ]
    }
   ],
   "source": [
    "# Descriptive statistics on scaled units (easier to read)\n",
    "desc_scaled = long_df[['Complaints_M', 'Losses_B', 'Loss_per_Complaint']].describe()\n",
    "print(\"Descriptive stats (scaled units):\")\n",
    "print(desc_scaled.round(2))\n"
   ]
  },
  {
   "cell_type": "markdown",
   "id": "a471d753-4a4c-4d74-9f61-bc9f55e12945",
   "metadata": {},
   "source": [
    "## Correlation (overall + per-year)"
   ]
  },
  {
   "cell_type": "code",
   "execution_count": 7,
   "id": "c023054f-e9a6-45b0-9c98-5c92502c9846",
   "metadata": {},
   "outputs": [
    {
     "name": "stdout",
     "output_type": "stream",
     "text": [
      "Overall Pearson correlation (Complaints vs Losses): 0.846\n",
      "\n",
      "Per-year correlation (Complaints vs Losses):\n",
      "Year\n",
      "2019   0.92\n",
      "2020   0.92\n",
      "2021   0.88\n",
      "2022   0.93\n",
      "2023   0.89\n",
      "2024   0.93\n",
      "Name: (Complaints, Losses), dtype: float64\n"
     ]
    }
   ],
   "source": [
    "# Overall correlation across all Country-Year rows\n",
    "overall_corr = long_df[['Complaints', 'Losses']].corr().iloc[0,1]\n",
    "print(f\"Overall Pearson correlation (Complaints vs Losses): {overall_corr:.3f}\")\n",
    "\n",
    "# Per-year correlation: within each year, across countries\n",
    "per_year_corr = (\n",
    "    long_df.groupby('Year')[['Complaints', 'Losses']]\n",
    "           .corr()\n",
    "           .unstack()\n",
    "           .iloc[:,1]  # Complaints vs Losses cell\n",
    "           .sort_index()\n",
    ")\n",
    "print(\"\\nPer-year correlation (Complaints vs Losses):\")\n",
    "print(per_year_corr.round(3))\n"
   ]
  },
  {
   "cell_type": "markdown",
   "id": "fb50f090-e7ea-4008-8c32-bc607067f216",
   "metadata": {},
   "source": [
    "Closer to 1.0 means they move together strongly (countries with more complaints tend to show more losses)."
   ]
  },
  {
   "cell_type": "markdown",
   "id": "59525e44-5f42-4078-8f8a-6f01ea495a6b",
   "metadata": {},
   "source": [
    "## Predictive model"
   ]
  },
  {
   "cell_type": "markdown",
   "id": "3e97e8cc-3558-43eb-9ec0-fc779b2d797e",
   "metadata": {},
   "source": [
    "We’ll predict Losses using Complaints and a simple time trend. Because money is skewed (some countries are huge), we model the log of losses to make things stable."
   ]
  },
  {
   "cell_type": "code",
   "execution_count": 8,
   "id": "f01fdbb2-e62d-49fb-b553-b980013a07c1",
   "metadata": {},
   "outputs": [
    {
     "name": "stdout",
     "output_type": "stream",
     "text": [
      "\n",
      "=== 2024 evaluation ===\n",
      "R^2 (log scale): 0.931\n",
      "MAE:  $418,681,774\n",
      "RMSE: $1,076,318,434\n",
      "\n",
      "Sample (top 10 by actual losses):\n",
      "    Country  Complaints  Losses_B  Predicted_B  APE_%\n",
      "634      US      946966     14.46        19.41  34.24\n",
      "620      CN      868309     11.30        17.84  57.87\n",
      "602      RU      324091     11.16         6.85  38.67\n",
      "645      GB      481671      6.38        10.06  57.72\n",
      "627      DE      146731      5.28         3.17  39.97\n",
      "632      UA      160414      5.16         3.46  33.04\n",
      "610      SG      161666      4.52         3.48  23.03\n",
      "659      IN       98092      4.16         2.14  48.54\n",
      "644      FR      208832      4.03         4.47  10.94\n",
      "667      JP      182470      3.39         3.92  15.43\n"
     ]
    }
   ],
   "source": [
    "# Train on 2019-2023, test on 2024\n",
    "train = long_df[long_df['Year'] < 2024].copy()\n",
    "test  = long_df[long_df['Year'] == 2024].copy()\n",
    "\n",
    "# Features (inputs) for the model:\n",
    "# - log1p_Complaints: log(1 + Complaints) handles very big numbers safely\n",
    "# - YearOffset: 0 for the first year, then 1,2,3... (a simple time trend)\n",
    "X_train = pd.DataFrame({\n",
    "    'log1p_Complaints': np.log1p(train['Complaints']),\n",
    "    'YearOffset': train['Year'] - train['Year'].min()\n",
    "})\n",
    "y_train = np.log1p(train['Losses'])  # target on log scale\n",
    "\n",
    "X_test = pd.DataFrame({\n",
    "    'log1p_Complaints': np.log1p(test['Complaints']),\n",
    "    'YearOffset': test['Year'] - train['Year'].min()\n",
    "})\n",
    "\n",
    "# Fit a linear regression on the log scale\n",
    "model = LinearRegression()\n",
    "model.fit(X_train, y_train)\n",
    "\n",
    "# Predict 2024 on the log scale, then convert back with expm1\n",
    "log_pred = model.predict(X_test)\n",
    "pred_losses = np.expm1(log_pred)  # dollars\n",
    "\n",
    "# Evaluate:\n",
    "# R^2 on the log scale (how well the model explains variation)\n",
    "r2  = r2_score(np.log1p(test['Losses']), log_pred)\n",
    "\n",
    "# MAE: average absolute error in dollars\n",
    "mae = mean_absolute_error(test['Losses'], pred_losses)\n",
    "\n",
    "# RMSE: root mean squared error (handle older sklearn without 'squared=')\n",
    "try:\n",
    "    rmse = mean_squared_error(test['Losses'], pred_losses, squared=False)\n",
    "except TypeError:\n",
    "    rmse = np.sqrt(mean_squared_error(test['Losses'], pred_losses))\n",
    "\n",
    "print(\"\\n=== 2024 evaluation ===\")\n",
    "print(f\"R^2 (log scale): {r2:.3f}\")\n",
    "print(f\"MAE:  ${mae:,.0f}\")\n",
    "print(f\"RMSE: ${rmse:,.0f}\")\n",
    "\n",
    "# See a few predictions vs actuals (top by actual loss)\n",
    "pred_2024 = test[['Country', 'Year', 'Complaints', 'Losses']].copy()\n",
    "pred_2024['Predicted_Losses'] = pred_losses\n",
    "pred_2024['Error'] = pred_2024['Predicted_Losses'] - pred_2024['Losses']\n",
    "pred_2024['APE_%'] = (pred_2024['Error'].abs() / pred_2024['Losses']) * 100\n",
    "\n",
    "print(\"\\nSample (top 10 by actual losses):\")\n",
    "print(\n",
    "    pred_2024.sort_values('Losses', ascending=False)\n",
    "             .head(10)\n",
    "             .assign(\n",
    "                 Losses_B=lambda d: d['Losses']/1e9,\n",
    "                 Predicted_B=lambda d: d['Predicted_Losses']/1e9\n",
    "             )[[\n",
    "                 'Country','Complaints','Losses_B','Predicted_B','APE_%'\n",
    "             ]].round({'Losses_B':2,'Predicted_B':2,'APE_%':2})\n",
    ")\n"
   ]
  },
  {
   "cell_type": "markdown",
   "id": "5a9c0028-7d9c-4e10-b08d-d3b9d2334d11",
   "metadata": {},
   "source": [
    "## Visualization Code (KEEP AT THE END TO PREVENT ERRORS ON OTHER COMPUTERS)"
   ]
  },
  {
   "cell_type": "markdown",
   "id": "1a15ff7b-44da-44b1-b8b6-c2e89d52960c",
   "metadata": {},
   "source": [
    "## Year-over-Year chart (puts both series on the same scale) in percent - so that they're directly comparable."
   ]
  },
  {
   "cell_type": "code",
   "execution_count": 9,
   "id": "1dd84764-13ec-4dfa-8ae6-ddb0ce59eaa3",
   "metadata": {},
   "outputs": [
    {
     "data": {
      "image/png": "[encoded data removed]",
      "text/plain": [
       "<Figure size 800x500 with 1 Axes>"
      ]
     },
     "metadata": {},
     "output_type": "display_data"
    }
   ],
   "source": [
    "from matplotlib.ticker import PercentFormatter\n",
    "\n",
    "yoy = yearly[['Complaints','Losses']].pct_change() * 100\n",
    "yoy = yoy.dropna()  # first year has no previous year to compare\n",
    "\n",
    "plt.figure(figsize=(8, 5))\n",
    "plt.plot(yoy.index, yoy['Complaints'], marker='o', label='Complaints YoY %')\n",
    "plt.plot(yoy.index, yoy['Losses'], marker='o', label='Losses YoY %')\n",
    "plt.axhline(0, linestyle='--', linewidth=1)\n",
    "plt.title('Year-over-Year Change: Complaints vs Losses')\n",
    "plt.xlabel('Year'); plt.ylabel('Percent Change')\n",
    "plt.gca().yaxis.set_major_formatter(PercentFormatter())\n",
    "plt.legend(); plt.tight_layout(); plt.show()\n"
   ]
  },
  {
   "cell_type": "markdown",
   "id": "e3cc43d9-d635-4f9e-ae60-7a8accd548cb",
   "metadata": {},
   "source": [
    "Each point shows how much the total changed compared to the previous year.\n",
    "Positive = increased, negative = decreased.\n",
    "Using percent value puts both lines on the same scale."
   ]
  },
  {
   "cell_type": "markdown",
   "id": "d5af9835-e5f4-4c13-b575-8ba8af94a75a",
   "metadata": {},
   "source": [
    "## Correlation heatmap (focused on what matters)"
   ]
  },
  {
   "cell_type": "markdown",
   "id": "fec3e806-86fe-4420-b98b-49eb90e1feb8",
   "metadata": {},
   "source": [
    "What it shows: how strongly pairs of variables move together (1 = very strong positive, 0 = none, -1 = strong negative)."
   ]
  },
  {
   "cell_type": "code",
   "execution_count": 10,
   "id": "84ea7a6a-e8f3-4e50-8853-55283e7b8cc5",
   "metadata": {},
   "outputs": [
    {
     "data": {
      "image/png": "[encoded data removed]",
      "text/plain": [
       "<Figure size 600x500 with 2 Axes>"
      ]
     },
     "metadata": {},
     "output_type": "display_data"
    },
    {
     "data": {
      "image/png": "[encoded data removed]",
      "text/plain": [
       "<Figure size 700x400 with 1 Axes>"
      ]
     },
     "metadata": {},
     "output_type": "display_data"
    }
   ],
   "source": [
    "# Overall correlation between key variables\n",
    "corr_cols = ['Complaints', 'Losses', 'Complaints_M', 'Losses_B', 'Loss_per_Complaint']\n",
    "corr = long_df[corr_cols].corr(method='pearson')\n",
    "\n",
    "plt.figure(figsize=(6,5))\n",
    "im = plt.imshow(corr, aspect='auto')\n",
    "plt.colorbar(im, fraction=0.046, pad=0.04)\n",
    "plt.title('Correlation Heatmap (Overall)')\n",
    "plt.xticks(range(len(corr_cols)), corr_cols, rotation=45, ha='right')\n",
    "plt.yticks(range(len(corr_cols)), corr_cols)\n",
    "for i in range(len(corr_cols)):\n",
    "    for j in range(len(corr_cols)):\n",
    "        plt.text(j, i, f\"{corr.iloc[i, j]:.2f}\", ha='center', va='center', fontsize=9)\n",
    "plt.tight_layout(); plt.show()\n",
    "\n",
    "# Per-year correlation bar chart (Complaints vs Losses)\n",
    "per_year_corr = (\n",
    "    long_df.groupby('Year')[['Complaints','Losses']]\n",
    "           .corr()\n",
    "           .unstack()\n",
    "           .iloc[:,1]\n",
    "           .sort_index()\n",
    ")\n",
    "plt.figure(figsize=(7,4))\n",
    "plt.bar(per_year_corr.index.astype(str), per_year_corr.values)\n",
    "plt.ylim(0, 1)\n",
    "plt.title('Correlation (Complaints vs Losses) by Year')\n",
    "plt.xlabel('Year'); plt.ylabel('Pearson r')\n",
    "plt.tight_layout(); plt.show()\n"
   ]
  },
  {
   "cell_type": "markdown",
   "id": "d8d3f6bf-7143-4363-b9ac-e88ed487aa5a",
   "metadata": {},
   "source": [
    "Heatmap: darker squares = stronger relationships. Expect strong positive between complaints and losses."
   ]
  },
  {
   "cell_type": "markdown",
   "id": "ec521275-ff1a-4135-827d-3b7ae97b75d2",
   "metadata": {},
   "source": [
    "Per-year bar chart: shows that within each year, countris with more complaints also tend to report more losses (high bars near the value 1.0)"
   ]
  },
  {
   "cell_type": "markdown",
   "id": "ac042498-f685-4416-ab87-1c46e00b8f53",
   "metadata": {},
   "source": [
    "## Predictive model visuals (optional)"
   ]
  },
  {
   "cell_type": "markdown",
   "id": "8d61cd00-0ccb-4dd3-868d-d82f247354f7",
   "metadata": {},
   "source": [
    "## Predicted vs Actual (2024)"
   ]
  },
  {
   "cell_type": "markdown",
   "id": "c8d465bd-a0d1-4469-b6ca-bebc5fd719a5",
   "metadata": {},
   "source": [
    "This shows how close our predictions are to reality in 2024. Points on the diagonal are perfect; above = over-predict, below = under-predict. The model is trained on 2019-2023, 2024 is out-of-sample."
   ]
  },
  {
   "cell_type": "code",
   "execution_count": 11,
   "id": "900f56da-7a1d-40ac-bff0-8fbb6a41c4cb",
   "metadata": {},
   "outputs": [
    {
     "data": {
      "image/png": "[encoded data removed]",
      "text/plain": [
       "<Figure size 700x600 with 1 Axes>"
      ]
     },
     "metadata": {},
     "output_type": "display_data"
    }
   ],
   "source": [
    "actual_B = pred_2024['Losses'] / 1e9\n",
    "pred_B   = pred_2024['Predicted_Losses'] / 1e9\n",
    "\n",
    "plt.figure(figsize=(7,6))\n",
    "plt.scatter(actual_B, pred_B, alpha=0.8)\n",
    "lim = float(np.ceil(max(actual_B.max(), pred_B.max())))\n",
    "plt.plot([0, lim], [0, lim], linestyle='--', linewidth=1)\n",
    "plt.xlim(0, lim); plt.ylim(0, lim)\n",
    "plt.xlabel('Actual Losses (Billions, 2024)')\n",
    "plt.ylabel('Predicted Losses (Billions, 2024)')\n",
    "plt.title('Predicted vs Actual (2024)')\n",
    "plt.tight_layout(); plt.show()\n"
   ]
  },
  {
   "cell_type": "markdown",
   "id": "9b8e7a4f-8416-498e-af34-f850076c317a",
   "metadata": {},
   "source": [
    "## Residuals (are errors random?):"
   ]
  },
  {
   "cell_type": "markdown",
   "id": "7a2e1b9e-d9f7-4204-8194-794e48a0c6d0",
   "metadata": {},
   "source": [
    "These help us to see if the model is systematically over/under-predicting.\n",
    "If points are scattered randomly around 0, it means the errors are not obviously biased.\n",
    "If residuals grow as predictions grow (a \"fan\" shape), variance may increase with size - consider different modeling method or transformations.\n"
   ]
  },
  {
   "cell_type": "code",
   "execution_count": 12,
   "id": "f2f3e8ae-1b79-4deb-9722-135a7fb082e2",
   "metadata": {},
   "outputs": [
    {
     "data": {
      "image/png": "[encoded data removed]",
      "text/plain": [
       "<Figure size 700x500 with 1 Axes>"
      ]
     },
     "metadata": {},
     "output_type": "display_data"
    }
   ],
   "source": [
    "resid_B = pred_B - actual_B\n",
    "\n",
    "plt.figure(figsize=(7,5))\n",
    "plt.scatter(pred_B, resid_B, alpha=0.8)\n",
    "plt.axhline(0, linestyle='--', linewidth=1)\n",
    "plt.xlabel('Predicted (B)'); plt.ylabel('Residual (B)')\n",
    "plt.title('Residuals vs Predicted (2024)')\n",
    "plt.tight_layout(); plt.show()\n"
   ]
  },
  {
   "cell_type": "markdown",
   "id": "e397ff28-3ecb-47be-bac8-dbfc4dda1584",
   "metadata": {},
   "source": [
    "## Saving cleaned data and predictions:"
   ]
  },
  {
   "cell_type": "code",
   "execution_count": 13,
   "id": "995c3277-218a-4449-8594-4ae1c35e7944",
   "metadata": {},
   "outputs": [
    {
     "name": "stdout",
     "output_type": "stream",
     "text": [
      "Saved: cleaned_wide.csv, cleaned_long.csv, predictions_2024.csv\n"
     ]
    }
   ],
   "source": [
    "df.to_csv(\"cleaned_wide.csv\", index=False)\n",
    "long_df.to_csv(\"cleaned_long.csv\", index=False)\n",
    "pred_2024.to_csv(\"predictions_2024.csv\", index=False)\n",
    "print(\"Saved: cleaned_wide.csv, cleaned_long.csv, predictions_2024.csv\")\n"
   ]
  },
  {
   "cell_type": "code",
   "execution_count": null,
   "id": "de1ad330-403b-48cb-90fb-45268797d5af",
   "metadata": {},
   "outputs": [],
   "source": []
  }
 ],
 "metadata": {
  "kernelspec": {
   "display_name": "Python 3 (ipykernel)",
   "language": "python",
   "name": "python3"
  },
  "language_info": {
   "codemirror_mode": {
    "name": "ipython",
    "version": 3
   },
   "file_extension": ".py",
   "mimetype": "text/x-python",
   "name": "python",
   "nbconvert_exporter": "python",
   "pygments_lexer": "ipython3",
   "version": "3.13.2"
  }
 },
 "nbformat": 4,
 "nbformat_minor": 5
}
