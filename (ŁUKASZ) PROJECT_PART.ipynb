{
 "cells": [
  {
   "cell_type": "code",
   "execution_count": 6,
   "id": "bb62f571-2173-441c-a69f-5ff98f5ab0d1",
   "metadata": {},
   "outputs": [],
   "source": [
    "import pandas as pd\n",
    "\n",
    "# DO NOT CHANGE THESE DATAFRAMES\n",
    "# CREATE COPIES\n",
    "df_threats = pd.read_csv('Global_Cybersecurity_Threats_2015-2024.csv')\n",
    "df_indices = pd.read_csv('Cyber_security.csv')\n",
    "df_loss = pd.read_csv('LossFromNetCrime.csv')\n",
    "\n",
    "# Work on copies so the originals stay untouched\n",
    "threats = df_threats.copy()\n",
    "indices = df_indices.copy()\n",
    "loss = df_loss.copy()\n",
    "\n",
    "# (small helper: standardize a couple of country names so they match the indices table)\n",
    "name_map = {'USA': 'United States', 'UK': 'United Kingdom'}\n",
    "threats['Country'] = threats['Country'].replace(name_map)"
   ]
  },
  {
   "cell_type": "markdown",
   "id": "b5b9e825-d65f-4e37-b779-ae1558b49b41",
   "metadata": {},
   "source": [
    "1) Do countries with higher Cybersecurity Index have fewer attacks?"
   ]
  },
  {
   "cell_type": "code",
   "execution_count": 7,
   "id": "5b418f26-bb00-442c-96fc-7c06884e4e33",
   "metadata": {},
   "outputs": [
    {
     "name": "stdout",
     "output_type": "stream",
     "text": [
      "CEI     0.004837\n",
      "GCI     0.441569\n",
      "NCSI    0.265943\n",
      "DDL    -0.102155\n"
     ]
    }
   ],
   "source": [
    "# count attacks per country (all years combined in this dataset)\n",
    "attacks_per_country = (threats\n",
    "    .groupby('Country')\n",
    "    .size()\n",
    "    .reset_index(name='attacks'))\n",
    "\n",
    "# keep only countries that exist in the indices table\n",
    "attacks_idx = attacks_per_country.merge(indices, on='Country', how='left')\n",
    "\n",
    "# correlations between \"attacks\" and each index (Pearson for simplicity)\n",
    "corrs = attacks_idx[['attacks','CEI','GCI','NCSI','DDL']].corr().loc['attacks', ['CEI','GCI','NCSI','DDL']]\n",
    "print(corrs.to_string())"
   ]
  },
  {
   "cell_type": "markdown",
   "id": "a982890b-4abc-4f81-9d88-b7fa967ab115",
   "metadata": {},
   "source": [
    "(ŁUKASZ) Correlation among indices (NCSI, CEI, GCI, DDL)"
   ]
  },
  {
   "cell_type": "code",
   "execution_count": 8,
   "id": "4fc52cec-7ec7-4be0-b42a-8c3767aba98d",
   "metadata": {},
   "outputs": [
    {
     "name": "stdout",
     "output_type": "stream",
     "text": [
      "        CEI    GCI   NCSI    DDL\n",
      "CEI   1.000 -0.729 -0.734 -0.896\n",
      "GCI  -0.729  1.000  0.831  0.631\n",
      "NCSI -0.734  0.831  1.000  0.701\n",
      "DDL  -0.896  0.631  0.701  1.000\n"
     ]
    }
   ],
   "source": [
    "print(indices[['CEI','GCI','NCSI','DDL']].corr().round(3))"
   ]
  },
  {
   "cell_type": "markdown",
   "id": "ef55cd35-0d52-4068-989e-e808b77ed582",
   "metadata": {},
   "source": [
    "(ŁUKASZ) Max/min attacks per country each year (from threats)"
   ]
  },
  {
   "cell_type": "code",
   "execution_count": 11,
   "id": "408c832b-aa9e-4690-baad-4c6df7f80ea0",
   "metadata": {},
   "outputs": [
    {
     "name": "stdout",
     "output_type": "stream",
     "text": [
      "Max attacks per year:\n",
      " Year        Country  attacks\n",
      " 2015 United Kingdom       34\n",
      " 2016 United Kingdom       36\n",
      " 2017          Japan       41\n",
      " 2018          India       41\n",
      " 2019 United Kingdom       32\n",
      " 2020         France       38\n",
      " 2021 United Kingdom       35\n",
      " 2022      Australia       39\n",
      " 2023          India       38\n",
      " 2024          China       37\n",
      "\n",
      "Min attacks per year:\n",
      " Year       Country  attacks\n",
      " 2015       Germany       21\n",
      " 2016         Japan       16\n",
      " 2017         China       23\n",
      " 2018         China       22\n",
      " 2019       Germany       20\n",
      " 2020     Australia       23\n",
      " 2021         India       24\n",
      " 2022        Brazil       25\n",
      " 2023        Russia       24\n",
      " 2024 United States       22\n"
     ]
    }
   ],
   "source": [
    "attack_year_country = (threats\n",
    "    .groupby(['Year','Country'])\n",
    "    .size()\n",
    "    .reset_index(name='attacks'))\n",
    "\n",
    "max_attack_per_year = attack_year_country.loc[attack_year_country.groupby('Year')['attacks'].idxmax()].sort_values('Year')\n",
    "min_attack_per_year = attack_year_country.loc[attack_year_country.groupby('Year')['attacks'].idxmin()].sort_values('Year')\n",
    "\n",
    "print(\"Max attacks per year:\")\n",
    "print(max_attack_per_year.to_string(index=False))\n",
    "\n",
    "print(\"\\nMin attacks per year:\")\n",
    "print(min_attack_per_year.to_string(index=False))"
   ]
  },
  {
   "cell_type": "markdown",
   "id": "e90fdfd8-1788-4c01-b4a2-4286b2911344",
   "metadata": {},
   "source": [
    "(ŁUKASZ) Losses & complaints: per year, per country + loss per complaint (money lost / complaints)"
   ]
  },
  {
   "cell_type": "code",
   "execution_count": 15,
   "id": "a7906e49-68ba-4143-b656-011698e20181",
   "metadata": {},
   "outputs": [
    {
     "name": "stdout",
     "output_type": "stream",
     "text": [
      "Max incidents per year:\n",
      " Year   Country_Std  Complaints\n",
      " 2019         China      449305\n",
      " 2020 United States      796395\n",
      " 2021         China      940125\n",
      " 2022 United States      769205\n",
      " 2023 United States      876894\n",
      " 2024 United States      946966\n",
      "\n",
      "Min incidents per year:\n",
      " Year           Country_Std  Complaints\n",
      " 2019                 Yemen         216\n",
      " 2020                 Yemen         362\n",
      " 2021                 Yemen         391\n",
      " 2022 Saint Kitts and Nevis         458\n",
      " 2023                 Yemen         400\n",
      " 2024                 Yemen         330\n",
      "\n",
      "Max losses per year:\n",
      " Year   Country_Std      Losses\n",
      " 2019 United States  3302744547\n",
      " 2020 United States  3906715208\n",
      " 2021 United States  6466618579\n",
      " 2022 United States 10304392551\n",
      " 2023 United States 11916782073\n",
      " 2024 United States 14457011740\n",
      "\n",
      "Min losses per year:\n",
      " Year Country_Std  Losses\n",
      " 2019      Belize 2498015\n",
      " 2020       Yemen 2673181\n",
      " 2021    Maldives 4362630\n",
      " 2022      Guinea 6648059\n",
      " 2023      Guinea 8907146\n",
      " 2024       Yemen 9792860\n",
      "\n",
      "Highest loss per incident (by year):\n",
      " Year Country_Std  loss_per_complaint\n",
      " 2019       Chile        35195.217175\n",
      " 2020    Slovenia        19575.050847\n",
      " 2021    Mongolia        34695.023118\n",
      " 2022   Argentina        59181.785841\n",
      " 2023     Hungary        68922.479706\n",
      " 2024    Slovenia        77078.401447\n"
     ]
    }
   ],
   "source": [
    "loss = loss.copy()\n",
    "loss['loss_per_complaint'] = loss['Losses'] / loss['Complaints']\n",
    "\n",
    "# By year: who has max/min complaints and max/min losses?\n",
    "max_incidents_per_year = loss.loc[loss.groupby('Year')['Complaints'].idxmax()].sort_values('Year')\n",
    "min_incidents_per_year = loss.loc[loss.groupby('Year')['Complaints'].idxmin()].sort_values('Year')\n",
    "max_losses_per_year = loss.loc[loss.groupby('Year')['Losses'].idxmax()].sort_values('Year')\n",
    "min_losses_per_year = loss.loc[loss.groupby('Year')['Losses'].idxmin()].sort_values('Year')\n",
    "\n",
    "print(\"Max incidents per year:\")\n",
    "print(max_incidents_per_year[['Year','Country_Std','Complaints']].to_string(index=False))\n",
    "\n",
    "print(\"\\nMin incidents per year:\")\n",
    "print(min_incidents_per_year[['Year','Country_Std','Complaints']].to_string(index=False))\n",
    "\n",
    "print(\"\\nMax losses per year:\")\n",
    "print(max_losses_per_year[['Year','Country_Std','Losses']].to_string(index=False))\n",
    "\n",
    "print(\"\\nMin losses per year:\")\n",
    "print(min_losses_per_year[['Year','Country_Std','Losses']].to_string(index=False))\n",
    "\n",
    "print(\"\\nHighest loss per incident (by year):\")\n",
    "max_lpc_per_year = loss.loc[loss.groupby('Year')['loss_per_complaint'].idxmax()].sort_values('Year')\n",
    "print(max_lpc_per_year[['Year','Country_Std','loss_per_complaint']].to_string(index=False))"
   ]
  },
  {
   "cell_type": "code",
   "execution_count": null,
   "id": "488d576c-3777-420c-8d31-094150814644",
   "metadata": {},
   "outputs": [],
   "source": []
  }
 ],
 "metadata": {
  "kernelspec": {
   "display_name": "Python 3 (ipykernel)",
   "language": "python",
   "name": "python3"
  },
  "language_info": {
   "codemirror_mode": {
    "name": "ipython",
    "version": 3
   },
   "file_extension": ".py",
   "mimetype": "text/x-python",
   "name": "python",
   "nbconvert_exporter": "python",
   "pygments_lexer": "ipython3",
   "version": "3.13.7"
  }
 },
 "nbformat": 4,
 "nbformat_minor": 5
}
