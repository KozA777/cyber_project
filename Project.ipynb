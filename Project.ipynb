{
 "cells": [
  {
   "cell_type": "code",
   "execution_count": 68,
   "id": "9ab9534f-17c6-404e-9fad-b0bdfcf9b3a2",
   "metadata": {},
   "outputs": [],
   "source": [
    "import pandas as pd\n",
    "import numpy as np\n",
    "import matplotlib.pyplot as plt"
   ]
  },
  {
   "cell_type": "code",
   "execution_count": 69,
   "id": "ef31b367-f18b-4b7d-8506-8f7fbf3e1f03",
   "metadata": {},
   "outputs": [],
   "source": [
    "# DO NOT CHANGE THESE DATAFRAMES \n",
    "# CREATE COPIES\n",
    "df_threats = pd.read_csv('Global_Cybersecurity_Threats_2015-2024.csv')\n",
    "df_loss = pd.read_csv('LossFromNetCrime.csv')\n",
    "df_world = pd.read_csv('world-data-2023.csv', index_col = 'Country')"
   ]
  },
  {
   "cell_type": "markdown",
   "id": "0477179a-8527-49a2-85b1-78b2cadcad58",
   "metadata": {},
   "source": [
    "# Section 3 - Combining"
   ]
  },
  {
   "cell_type": "markdown",
   "id": "ecbdd67f-08b0-498a-8533-7e975f44d05e",
   "metadata": {},
   "source": [
    "### Country Codes Hide Cell"
   ]
  },
  {
   "cell_type": "code",
   "execution_count": 70,
   "id": "3ed13131-46c8-4a56-a57d-856b3e6726d4",
   "metadata": {},
   "outputs": [],
   "source": [
    "country_codes = {\n",
    "    \"PR\": \"Puerto Rico\", \"PS\": \"Palestine\", \"PT\": \"Portugal\", \"PY\": \"Paraguay\",\n",
    "    \"AE\": \"United Arab Emirates\", \"AF\": \"Afghanistan\", \"AL\": \"Albania\", \"AM\": \"Armenia\",\n",
    "    \"AO\": \"Angola\", \"AR\": \"Argentina\", \"AT\": \"Austria\", \"AU\": \"Australia\",\n",
    "    \"AZ\": \"Azerbaijan\", \"RO\": \"Romania\", \"BA\": \"Bosnia and Herzegovina\", \"RS\": \"Serbia\",\n",
    "    \"BD\": \"Bangladesh\", \"RU\": \"Russia\", \"BE\": \"Belgium\", \"BG\": \"Bulgaria\",\n",
    "    \"BH\": \"Bahrain\", \"SA\": \"Saudi Arabia\", \"BR\": \"Brazil\", \"SC\": \"Seychelles\",\n",
    "    \"SE\": \"Sweden\", \"SG\": \"Singapore\", \"SI\": \"Slovenia\", \"BY\": \"Belarus\",\n",
    "    \"SK\": \"Slovakia\", \"BZ\": \"Belize\", \"CA\": \"Canada\", \"SV\": \"El Salvador\",\n",
    "    \"CH\": \"Switzerland\", \"SZ\": \"Eswatini\", \"CL\": \"Chile\", \"CN\": \"China\",\n",
    "    \"CO\": \"Colombia\", \"CR\": \"Costa Rica\", \"TH\": \"Thailand\", \"CY\": \"Cyprus\",\n",
    "    \"CZ\": \"Czech Republic\", \"TR\": \"Turkey\", \"DE\": \"Germany\", \"TW\": \"Taiwan\",\n",
    "    \"TZ\": \"Tanzania\", \"DK\": \"Denmark\", \"DO\": \"Dominican Republic\", \"UA\": \"Ukraine\",\n",
    "    \"UG\": \"Uganda\", \"US\": \"United States\", \"EC\": \"Ecuador\", \"EE\": \"Estonia\",\n",
    "    \"EG\": \"Egypt\", \"UZ\": \"Uzbekistan\", \"ES\": \"Spain\", \"VE\": \"Venezuela\",\n",
    "    \"VG\": \"British Virgin Islands\", \"VN\": \"Vietnam\", \"FI\": \"Finland\", \"FR\": \"France\",\n",
    "    \"GB\": \"United Kingdom\", \"GE\": \"Georgia\", \"GH\": \"Ghana\", \"GN\": \"Guinea\",\n",
    "    \"GR\": \"Greece\", \"GT\": \"Guatemala\", \"HK\": \"Hong Kong\", \"HN\": \"Honduras\",\n",
    "    \"HR\": \"Croatia\", \"YE\": \"Yemen\", \"HU\": \"Hungary\", \"ID\": \"Indonesia\",\n",
    "    \"IE\": \"Ireland\", \"IL\": \"Israel\", \"IN\": \"India\", \"ZA\": \"South Africa\",\n",
    "    \"IQ\": \"Iraq\", \"IR\": \"Iran\", \"IS\": \"Iceland\", \"IT\": \"Italy\",\n",
    "    \"ZW\": \"Zimbabwe\", \"JO\": \"Jordan\", \"JP\": \"Japan\", \"KE\": \"Kenya\",\n",
    "    \"KG\": \"Kyrgyzstan\", \"KH\": \"Cambodia\", \"KN\": \"Saint Kitts and Nevis\", \"KR\": \"South Korea\",\n",
    "    \"KZ\": \"Kazakhstan\", \"LB\": \"Lebanon\", \"LK\": \"Sri Lanka\", \"LT\": \"Lithuania\",\n",
    "    \"LU\": \"Luxembourg\", \"LV\": \"Latvia\", \"LY\": \"Libya\", \"MD\": \"Moldova\",\n",
    "    \"MM\": \"Myanmar\", \"MN\": \"Mongolia\", \"MT\": \"Malta\", \"MV\": \"Maldives\",\n",
    "    \"MX\": \"Mexico\", \"MY\": \"Malaysia\", \"MZ\": \"Mozambique\", \"NG\": \"Nigeria\",\n",
    "    \"NI\": \"Nicaragua\", \"NL\": \"Netherlands\", \"NO\": \"Norway\", \"NP\": \"Nepal\",\n",
    "    \"NZ\": \"New Zealand\", \"OM\": \"Oman\", \"PA\": \"Panama\", \"PE\": \"Peru\",\n",
    "    \"PG\": \"Papua New Guinea\", \"PH\": \"Philippines\", \"PK\": \"Pakistan\", \"PL\": \"Poland\",\n",
    "    'NaN': 'NaN'  # Represents missing or undefined country\n",
    "}"
   ]
  },
  {
   "cell_type": "markdown",
   "id": "ae203ed6-7f9d-429f-a3b3-3353612dd732",
   "metadata": {},
   "source": [
    "### DataFrame - Trasform Country Codes to Country Names"
   ]
  },
  {
   "cell_type": "code",
   "execution_count": 71,
   "id": "b6fe6129-4fa6-44e3-bdd7-7e93897396cb",
   "metadata": {},
   "outputs": [],
   "source": [
    "# final output dataFrame for this cell = cntry_loss\n",
    "\n",
    "cntry_loss = df_loss.copy() #copy df\n",
    "cntry_loss = cntry_loss.rename(columns = {'Country' :'Country Code'}).sort_values(by = 'Country Code') # rename column and sort \n",
    "#print(cntry_loss.loc[103]) \n",
    "#print(cntry_loss.shape)\n",
    "cntry_loss = cntry_loss.dropna() # delete the nan columns\n",
    "#cntry_loss = cntry_loss.drop(axis = 0, index = 103) # delete the nan column\n",
    "#print(cntry_loss.shape)\n",
    "\n",
    "column = cntry_loss['Country Code'] # define column variable\n",
    "\n",
    "# create empty lists\n",
    "country_col = []\n",
    "country_id = []\n",
    "# create a 3 digit country ID \n",
    "value = 100 \n",
    "\n",
    "for i in column: \n",
    "    #print(country_codes[i])\n",
    "    # from list append \n",
    "    country_col.append(country_codes[i])\n",
    "    value += 1\n",
    "    country_id.append((value))\n",
    "\n",
    "# create new columns\n",
    "cntry_loss.insert(loc = 1, column = 'Country', value = country_col)\n",
    "cntry_loss.insert(loc = 1, column = 'Country ID', value = country_id)\n",
    "# set index = Country\n",
    "cntry_loss = cntry_loss.set_index('Country').sort_index().copy()\n",
    "\n",
    "# Copilot soln without the loop\n",
    "# cntry_loss['Country'] = cntry_loss['Country Code'].map(country_codes)"
   ]
  },
  {
   "cell_type": "markdown",
   "id": "92415350-3e7a-4127-9d1a-5dd5c40e2b63",
   "metadata": {},
   "source": [
    "### Join DataFrames"
   ]
  },
  {
   "cell_type": "code",
   "execution_count": 72,
   "id": "bb0ac46a-f49f-4561-85c0-113511382f54",
   "metadata": {},
   "outputs": [
    {
     "data": {
      "text/html": [
       "<div>\n",
       "<style scoped>\n",
       "    .dataframe tbody tr th:only-of-type {\n",
       "        vertical-align: middle;\n",
       "    }\n",
       "\n",
       "    .dataframe tbody tr th {\n",
       "        vertical-align: top;\n",
       "    }\n",
       "\n",
       "    .dataframe thead th {\n",
       "        text-align: right;\n",
       "    }\n",
       "</style>\n",
       "<table border=\"1\" class=\"dataframe\">\n",
       "  <thead>\n",
       "    <tr style=\"text-align: right;\">\n",
       "      <th></th>\n",
       "      <th>Population</th>\n",
       "      <th>GDP</th>\n",
       "    </tr>\n",
       "    <tr>\n",
       "      <th>Country</th>\n",
       "      <th></th>\n",
       "      <th></th>\n",
       "    </tr>\n",
       "  </thead>\n",
       "  <tbody>\n",
       "    <tr>\n",
       "      <th>Afghanistan</th>\n",
       "      <td>38041754.0</td>\n",
       "      <td>1.910135e+10</td>\n",
       "    </tr>\n",
       "    <tr>\n",
       "      <th>Albania</th>\n",
       "      <td>2854191.0</td>\n",
       "      <td>1.527808e+10</td>\n",
       "    </tr>\n",
       "    <tr>\n",
       "      <th>Algeria</th>\n",
       "      <td>43053054.0</td>\n",
       "      <td>1.699882e+11</td>\n",
       "    </tr>\n",
       "    <tr>\n",
       "      <th>Andorra</th>\n",
       "      <td>77142.0</td>\n",
       "      <td>3.154058e+09</td>\n",
       "    </tr>\n",
       "    <tr>\n",
       "      <th>Angola</th>\n",
       "      <td>31825295.0</td>\n",
       "      <td>9.463542e+10</td>\n",
       "    </tr>\n",
       "    <tr>\n",
       "      <th>...</th>\n",
       "      <td>...</td>\n",
       "      <td>...</td>\n",
       "    </tr>\n",
       "    <tr>\n",
       "      <th>Venezuela</th>\n",
       "      <td>28515829.0</td>\n",
       "      <td>4.823593e+11</td>\n",
       "    </tr>\n",
       "    <tr>\n",
       "      <th>Vietnam</th>\n",
       "      <td>96462106.0</td>\n",
       "      <td>2.619212e+11</td>\n",
       "    </tr>\n",
       "    <tr>\n",
       "      <th>Yemen</th>\n",
       "      <td>29161922.0</td>\n",
       "      <td>2.691440e+10</td>\n",
       "    </tr>\n",
       "    <tr>\n",
       "      <th>Zambia</th>\n",
       "      <td>17861030.0</td>\n",
       "      <td>2.306472e+10</td>\n",
       "    </tr>\n",
       "    <tr>\n",
       "      <th>Zimbabwe</th>\n",
       "      <td>14645468.0</td>\n",
       "      <td>2.144076e+10</td>\n",
       "    </tr>\n",
       "  </tbody>\n",
       "</table>\n",
       "<p>193 rows × 2 columns</p>\n",
       "</div>"
      ],
      "text/plain": [
       "             Population           GDP\n",
       "Country                              \n",
       "Afghanistan  38041754.0  1.910135e+10\n",
       "Albania       2854191.0  1.527808e+10\n",
       "Algeria      43053054.0  1.699882e+11\n",
       "Andorra         77142.0  3.154058e+09\n",
       "Angola       31825295.0  9.463542e+10\n",
       "...                 ...           ...\n",
       "Venezuela    28515829.0  4.823593e+11\n",
       "Vietnam      96462106.0  2.619212e+11\n",
       "Yemen        29161922.0  2.691440e+10\n",
       "Zambia       17861030.0  2.306472e+10\n",
       "Zimbabwe     14645468.0  2.144076e+10\n",
       "\n",
       "[193 rows x 2 columns]"
      ]
     },
     "execution_count": 72,
     "metadata": {},
     "output_type": "execute_result"
    }
   ],
   "source": [
    "cntry_wrld"
   ]
  },
  {
   "cell_type": "code",
   "execution_count": 81,
   "id": "ec8938cb-1cd0-4edd-ae0c-e4a3e5056616",
   "metadata": {},
   "outputs": [],
   "source": [
    "# final output dataFrame for this cell = df_join_23\n",
    "\n",
    "# work with world data\n",
    "cntry_wrld = df_world.sort_index()[['Population', 'GDP']].copy() # choose relevant cols\n",
    "cntry_wrld = cntry_wrld.dropna() # delete the nan columns\n",
    "\n",
    "# ~~~ make Population into type = float\n",
    "list_pop = [] # list of population\n",
    "\n",
    "for i in cntry_wrld['Population']: \n",
    "    i = i.replace(',', '') # delete chars\n",
    "    list_pop.append(float(i)) # append float(population)\n",
    "\n",
    "cntry_wrld['Population'] = list_pop\n",
    "\n",
    "list_gdp = []\n",
    "\n",
    "# ~~~ make GDP into type = float\n",
    "for i in cntry_wrld['GDP']: \n",
    "    i = i.replace(',', '') # delete chars\n",
    "    i = i.replace('$', '')\n",
    "    list_gdp.append(float(i))\n",
    "\n",
    "cntry_wrld['GDP'] = list_gdp\n",
    "\n",
    "# WORLD data are from 2023\n",
    "# df.join() is for joining the dfs by indeces \n",
    "df_join_23 = cntry_wrld.join(cntry_loss[['2023_Complaints', '2023_Losses']], lsuffix = '_l', how = 'inner')"
   ]
  },
  {
   "cell_type": "code",
   "execution_count": 82,
   "id": "ea75e9d3-b7ee-4383-aaa8-1286b70f7b9c",
   "metadata": {},
   "outputs": [
    {
     "data": {
      "text/html": [
       "<div>\n",
       "<style scoped>\n",
       "    .dataframe tbody tr th:only-of-type {\n",
       "        vertical-align: middle;\n",
       "    }\n",
       "\n",
       "    .dataframe tbody tr th {\n",
       "        vertical-align: top;\n",
       "    }\n",
       "\n",
       "    .dataframe thead th {\n",
       "        text-align: right;\n",
       "    }\n",
       "</style>\n",
       "<table border=\"1\" class=\"dataframe\">\n",
       "  <thead>\n",
       "    <tr style=\"text-align: right;\">\n",
       "      <th></th>\n",
       "      <th>Population</th>\n",
       "      <th>GDP</th>\n",
       "      <th>2023_Complaints</th>\n",
       "      <th>2023_Losses</th>\n",
       "    </tr>\n",
       "    <tr>\n",
       "      <th>Country</th>\n",
       "      <th></th>\n",
       "      <th></th>\n",
       "      <th></th>\n",
       "      <th></th>\n",
       "    </tr>\n",
       "  </thead>\n",
       "  <tbody>\n",
       "    <tr>\n",
       "      <th>Afghanistan</th>\n",
       "      <td>38041754.0</td>\n",
       "      <td>1.910135e+10</td>\n",
       "      <td>1150</td>\n",
       "      <td>38527355</td>\n",
       "    </tr>\n",
       "    <tr>\n",
       "      <th>Albania</th>\n",
       "      <td>2854191.0</td>\n",
       "      <td>1.527808e+10</td>\n",
       "      <td>2178</td>\n",
       "      <td>46707757</td>\n",
       "    </tr>\n",
       "    <tr>\n",
       "      <th>Angola</th>\n",
       "      <td>31825295.0</td>\n",
       "      <td>9.463542e+10</td>\n",
       "      <td>1336</td>\n",
       "      <td>15792180</td>\n",
       "    </tr>\n",
       "    <tr>\n",
       "      <th>Argentina</th>\n",
       "      <td>44938712.0</td>\n",
       "      <td>4.496634e+11</td>\n",
       "      <td>8511</td>\n",
       "      <td>372985785</td>\n",
       "    </tr>\n",
       "    <tr>\n",
       "      <th>Armenia</th>\n",
       "      <td>2957731.0</td>\n",
       "      <td>1.367280e+10</td>\n",
       "      <td>5041</td>\n",
       "      <td>114193013</td>\n",
       "    </tr>\n",
       "    <tr>\n",
       "      <th>...</th>\n",
       "      <td>...</td>\n",
       "      <td>...</td>\n",
       "      <td>...</td>\n",
       "      <td>...</td>\n",
       "    </tr>\n",
       "    <tr>\n",
       "      <th>Uzbekistan</th>\n",
       "      <td>33580650.0</td>\n",
       "      <td>5.792129e+10</td>\n",
       "      <td>1414</td>\n",
       "      <td>31812459</td>\n",
       "    </tr>\n",
       "    <tr>\n",
       "      <th>Venezuela</th>\n",
       "      <td>28515829.0</td>\n",
       "      <td>4.823593e+11</td>\n",
       "      <td>11897</td>\n",
       "      <td>306878450</td>\n",
       "    </tr>\n",
       "    <tr>\n",
       "      <th>Vietnam</th>\n",
       "      <td>96462106.0</td>\n",
       "      <td>2.619212e+11</td>\n",
       "      <td>51411</td>\n",
       "      <td>1166933394</td>\n",
       "    </tr>\n",
       "    <tr>\n",
       "      <th>Yemen</th>\n",
       "      <td>29161922.0</td>\n",
       "      <td>2.691440e+10</td>\n",
       "      <td>400</td>\n",
       "      <td>9470640</td>\n",
       "    </tr>\n",
       "    <tr>\n",
       "      <th>Zimbabwe</th>\n",
       "      <td>14645468.0</td>\n",
       "      <td>2.144076e+10</td>\n",
       "      <td>688</td>\n",
       "      <td>9698258</td>\n",
       "    </tr>\n",
       "  </tbody>\n",
       "</table>\n",
       "<p>110 rows × 4 columns</p>\n",
       "</div>"
      ],
      "text/plain": [
       "             Population           GDP  2023_Complaints  2023_Losses\n",
       "Country                                                            \n",
       "Afghanistan  38041754.0  1.910135e+10             1150     38527355\n",
       "Albania       2854191.0  1.527808e+10             2178     46707757\n",
       "Angola       31825295.0  9.463542e+10             1336     15792180\n",
       "Argentina    44938712.0  4.496634e+11             8511    372985785\n",
       "Armenia       2957731.0  1.367280e+10             5041    114193013\n",
       "...                 ...           ...              ...          ...\n",
       "Uzbekistan   33580650.0  5.792129e+10             1414     31812459\n",
       "Venezuela    28515829.0  4.823593e+11            11897    306878450\n",
       "Vietnam      96462106.0  2.619212e+11            51411   1166933394\n",
       "Yemen        29161922.0  2.691440e+10              400      9470640\n",
       "Zimbabwe     14645468.0  2.144076e+10              688      9698258\n",
       "\n",
       "[110 rows x 4 columns]"
      ]
     },
     "execution_count": 82,
     "metadata": {},
     "output_type": "execute_result"
    }
   ],
   "source": [
    "df_join_23"
   ]
  },
  {
   "cell_type": "markdown",
   "id": "a06e62c4-e8ba-4831-ab56-e7cfa67d408f",
   "metadata": {},
   "source": [
    "### Correlations "
   ]
  },
  {
   "cell_type": "code",
   "execution_count": 83,
   "id": "12fda4de-4aa8-4475-9fb7-20d5402cd62b",
   "metadata": {},
   "outputs": [
    {
     "data": {
      "text/html": [
       "<div>\n",
       "<style scoped>\n",
       "    .dataframe tbody tr th:only-of-type {\n",
       "        vertical-align: middle;\n",
       "    }\n",
       "\n",
       "    .dataframe tbody tr th {\n",
       "        vertical-align: top;\n",
       "    }\n",
       "\n",
       "    .dataframe thead th {\n",
       "        text-align: right;\n",
       "    }\n",
       "</style>\n",
       "<table border=\"1\" class=\"dataframe\">\n",
       "  <thead>\n",
       "    <tr style=\"text-align: right;\">\n",
       "      <th></th>\n",
       "      <th>2023_Complaints</th>\n",
       "      <th>Population</th>\n",
       "    </tr>\n",
       "  </thead>\n",
       "  <tbody>\n",
       "    <tr>\n",
       "      <th>2023_Complaints</th>\n",
       "      <td>1.000000</td>\n",
       "      <td>0.534335</td>\n",
       "    </tr>\n",
       "    <tr>\n",
       "      <th>Population</th>\n",
       "      <td>0.534335</td>\n",
       "      <td>1.000000</td>\n",
       "    </tr>\n",
       "  </tbody>\n",
       "</table>\n",
       "</div>"
      ],
      "text/plain": [
       "                 2023_Complaints  Population\n",
       "2023_Complaints         1.000000    0.534335\n",
       "Population              0.534335    1.000000"
      ]
     },
     "execution_count": 83,
     "metadata": {},
     "output_type": "execute_result"
    }
   ],
   "source": [
    "new_df = df_join_23[['2023_Complaints', 'Population']]\n",
    "new_df.corr(numeric_only = True)"
   ]
  },
  {
   "cell_type": "code",
   "execution_count": 85,
   "id": "2c2858bf-fc2e-4f98-80d2-36975c150550",
   "metadata": {},
   "outputs": [
    {
     "data": {
      "text/html": [
       "<div>\n",
       "<style scoped>\n",
       "    .dataframe tbody tr th:only-of-type {\n",
       "        vertical-align: middle;\n",
       "    }\n",
       "\n",
       "    .dataframe tbody tr th {\n",
       "        vertical-align: top;\n",
       "    }\n",
       "\n",
       "    .dataframe thead th {\n",
       "        text-align: right;\n",
       "    }\n",
       "</style>\n",
       "<table border=\"1\" class=\"dataframe\">\n",
       "  <thead>\n",
       "    <tr style=\"text-align: right;\">\n",
       "      <th></th>\n",
       "      <th>2023_Complaints</th>\n",
       "      <th>GDP</th>\n",
       "    </tr>\n",
       "  </thead>\n",
       "  <tbody>\n",
       "    <tr>\n",
       "      <th>2023_Complaints</th>\n",
       "      <td>1.000000</td>\n",
       "      <td>0.924679</td>\n",
       "    </tr>\n",
       "    <tr>\n",
       "      <th>GDP</th>\n",
       "      <td>0.924679</td>\n",
       "      <td>1.000000</td>\n",
       "    </tr>\n",
       "  </tbody>\n",
       "</table>\n",
       "</div>"
      ],
      "text/plain": [
       "                 2023_Complaints       GDP\n",
       "2023_Complaints         1.000000  0.924679\n",
       "GDP                     0.924679  1.000000"
      ]
     },
     "execution_count": 85,
     "metadata": {},
     "output_type": "execute_result"
    }
   ],
   "source": [
    "new_df = df_join_23[['2023_Complaints', 'GDP']]\n",
    "new_df.corr(numeric_only = True)"
   ]
  },
  {
   "cell_type": "markdown",
   "id": "477dff35-dfa7-4627-897f-3be107ff7586",
   "metadata": {},
   "source": [
    "## Start Plotting"
   ]
  },
  {
   "cell_type": "code",
   "execution_count": 89,
   "id": "74f30d9d-f472-4ad2-9954-d5ff22de2f25",
   "metadata": {},
   "outputs": [],
   "source": [
    "arr_com = np.array(df_join_23.sort_values(by = '2023_Complaints')['2023_Complaints'])\n",
    "arr_pop = np.array(df_join_23.sort_values(by ='2023_Complaints')['Population'])\n",
    "arr_gdp = np.array(df_join_23.sort_values(by ='2023_Complaints')['GDP'])"
   ]
  },
  {
   "cell_type": "code",
   "execution_count": 103,
   "id": "de773709-42ad-4875-8d6d-b02326f4b919",
   "metadata": {},
   "outputs": [],
   "source": [
    "# Removing Outliers \n",
    "\n",
    "# Create conditions \n",
    "cond_pop = np.where(arr_pop > 0.8*10**9)\n",
    "cond_com = (np.where(arr_com > 30000))[0].tolist()\n",
    "#cond = []\n",
    "\n",
    "new_com = np.delete(arr_com,[ 99, 108] + cond_com)\n",
    "new_pop = np.delete(arr_pop, [ 99, 108] + cond_com)\n",
    "new_gdp = np.delete(arr_gdp, [ 99, 108] + cond_com)"
   ]
  },
  {
   "cell_type": "code",
   "execution_count": 98,
   "id": "fd9c8327-e2bc-49ce-a19c-87b7f84129c3",
   "metadata": {},
   "outputs": [
    {
     "data": {
      "image/png": "[encoded data removed]",
      "text/plain": [
       "<Figure size 640x480 with 1 Axes>"
      ]
     },
     "metadata": {},
     "output_type": "display_data"
    }
   ],
   "source": [
    "plt.plot(arr_com, arr_gdp, 'o', color = 'g')\n",
    "\n",
    "line_x = np.array([new_com[0], new_com[-1]])\n",
    "line_y =  np.array([new_gdp[0], new_gdp[-1]])\n",
    "\n",
    "#plt.plot(line_x, line_y)\n",
    "#plt.yscale('log')\n",
    "#plt.xscale('log')"
   ]
  },
  {
   "cell_type": "code",
   "execution_count": null,
   "id": "5878265e-81ed-43ef-87df-a47bba6b060f",
   "metadata": {},
   "outputs": [],
   "source": []
  },
  {
   "cell_type": "code",
   "execution_count": 106,
   "id": "5340299b-20d1-4ad2-90c5-fe20d35fac7e",
   "metadata": {},
   "outputs": [
    {
     "data": {
      "image/png": "[encoded data removed]",
      "text/plain": [
       "<Figure size 640x480 with 1 Axes>"
      ]
     },
     "metadata": {},
     "output_type": "display_data"
    }
   ],
   "source": [
    "plt.plot(arr_com, arr_pop, 'o', color = 'r')\n",
    "\n",
    "line_x = np.array([new_com[0], new_com[-1]])\n",
    "line_y =  np.array([new_gdp[0], new_gdp[-1]])\n",
    "\n",
    "#plt.plot(line_x, line_y)\n",
    "#plt.yscale('log')\n",
    "#plt.xscale('log')"
   ]
  },
  {
   "cell_type": "code",
   "execution_count": 104,
   "id": "3db95406-95aa-478d-91db-149ac96b9a39",
   "metadata": {},
   "outputs": [
    {
     "data": {
      "text/plain": [
       "array([[1.        , 0.38828987],\n",
       "       [0.38828987, 1.        ]])"
      ]
     },
     "execution_count": 104,
     "metadata": {},
     "output_type": "execute_result"
    }
   ],
   "source": [
    "np.corrcoef(new_com, new_gdp)"
   ]
  },
  {
   "cell_type": "code",
   "execution_count": 99,
   "id": "78c072ab-308d-4c39-9bac-ec19d9d8829f",
   "metadata": {},
   "outputs": [
    {
     "data": {
      "image/png": "[encoded data removed]",
      "text/plain": [
       "<Figure size 640x480 with 1 Axes>"
      ]
     },
     "metadata": {},
     "output_type": "display_data"
    }
   ],
   "source": [
    "plt.plot(new_com, new_gdp, 'o', color = 'g')\n",
    "\n",
    "line_x = np.array([new_com[0], new_com[-1]])\n",
    "line_y =  np.array([new_gdp[0], new_gdp[-1]])\n",
    "\n",
    "#plt.plot(line_x, line_y)\n",
    "#plt.yscale('log')\n",
    "#plt.xscale('log')"
   ]
  },
  {
   "cell_type": "code",
   "execution_count": null,
   "id": "2f74a64f-ff20-426f-8c04-dd1a024be570",
   "metadata": {},
   "outputs": [],
   "source": []
  }
 ],
 "metadata": {
  "kernelspec": {
   "display_name": "Python 3 (ipykernel)",
   "language": "python",
   "name": "python3"
  },
  "language_info": {
   "codemirror_mode": {
    "name": "ipython",
    "version": 3
   },
   "file_extension": ".py",
   "mimetype": "text/x-python",
   "name": "python",
   "nbconvert_exporter": "python",
   "pygments_lexer": "ipython3",
   "version": "3.13.2"
  }
 },
 "nbformat": 4,
 "nbformat_minor": 5
}
