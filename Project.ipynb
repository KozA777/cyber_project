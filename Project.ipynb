{
 "cells": [
  {
   "cell_type": "code",
   "execution_count": 3,
   "id": "9ab9534f-17c6-404e-9fad-b0bdfcf9b3a2",
   "metadata": {},
   "outputs": [],
   "source": [
    "import pandas as pd "
   ]
  },
  {
   "cell_type": "code",
   "execution_count": 4,
   "id": "ef31b367-f18b-4b7d-8506-8f7fbf3e1f03",
   "metadata": {},
   "outputs": [],
   "source": [
    "# DO NOT CHANGE THESE DATAFRAMES \n",
    "# CREATE COPIES\n",
    "df_threats = pd.read_csv('Global_Cybersecurity_Threats_2015-2024.csv')\n",
    "df_indices = pd.read_csv('Cyber_security.csv')\n",
    "df_loss = pd.read_csv('LossFromNetCrime.csv')"
   ]
  },
  {
   "cell_type": "code",
   "execution_count": null,
   "id": "384890d1-045f-4a08-9373-8f9a65437b0e",
   "metadata": {},
   "outputs": [],
   "source": []
  }
 ],
 "metadata": {
  "kernelspec": {
   "display_name": "Python 3 (ipykernel)",
   "language": "python",
   "name": "python3"
  },
  "language_info": {
   "codemirror_mode": {
    "name": "ipython",
    "version": 3
   },
   "file_extension": ".py",
   "mimetype": "text/x-python",
   "name": "python",
   "nbconvert_exporter": "python",
   "pygments_lexer": "ipython3",
   "version": "3.13.2"
  }
 },
 "nbformat": 4,
 "nbformat_minor": 5
}
