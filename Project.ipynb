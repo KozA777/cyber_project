{
 "cells": [
  {
   "cell_type": "code",
   "execution_count": 1,
   "id": "9ab9534f-17c6-404e-9fad-b0bdfcf9b3a2",
   "metadata": {},
   "outputs": [],
   "source": [
    "import pandas as pd\n",
    "import numpy as np\n",
    "import matplotlib.pyplot as plt"
   ]
  },
  {
   "cell_type": "code",
   "execution_count": 2,
   "id": "ef31b367-f18b-4b7d-8506-8f7fbf3e1f03",
   "metadata": {},
   "outputs": [],
   "source": [
    "# DO NOT CHANGE THESE DATAFRAMES \n",
    "# CREATE COPIES\n",
    "df_threats = pd.read_csv('Global_Cybersecurity_Threats_2015-2024.csv')\n",
    "df_loss = pd.read_csv('LossFromNetCrime.csv')\n",
    "df_world = pd.read_csv('world-data-2023.csv', index_col = 'Country')"
   ]
  },
  {
   "cell_type": "markdown",
   "id": "0477179a-8527-49a2-85b1-78b2cadcad58",
   "metadata": {
    "jp-MarkdownHeadingCollapsed": true
   },
   "source": [
    "# Section 3 - Combining"
   ]
  },
  {
   "cell_type": "markdown",
   "id": "ecbdd67f-08b0-498a-8533-7e975f44d05e",
   "metadata": {
    "jp-MarkdownHeadingCollapsed": true
   },
   "source": [
    "### Country Codes Hide Cell"
   ]
  },
  {
   "cell_type": "code",
   "execution_count": 4,
   "id": "3ed13131-46c8-4a56-a57d-856b3e6726d4",
   "metadata": {},
   "outputs": [],
   "source": [
    "country_codes = {\n",
    "    \"PR\": \"Puerto Rico\", \"PS\": \"Palestine\", \"PT\": \"Portugal\", \"PY\": \"Paraguay\",\n",
    "    \"AE\": \"United Arab Emirates\", \"AF\": \"Afghanistan\", \"AL\": \"Albania\", \"AM\": \"Armenia\",\n",
    "    \"AO\": \"Angola\", \"AR\": \"Argentina\", \"AT\": \"Austria\", \"AU\": \"Australia\",\n",
    "    \"AZ\": \"Azerbaijan\", \"RO\": \"Romania\", \"BA\": \"Bosnia and Herzegovina\", \"RS\": \"Serbia\",\n",
    "    \"BD\": \"Bangladesh\", \"RU\": \"Russia\", \"BE\": \"Belgium\", \"BG\": \"Bulgaria\",\n",
    "    \"BH\": \"Bahrain\", \"SA\": \"Saudi Arabia\", \"BR\": \"Brazil\", \"SC\": \"Seychelles\",\n",
    "    \"SE\": \"Sweden\", \"SG\": \"Singapore\", \"SI\": \"Slovenia\", \"BY\": \"Belarus\",\n",
    "    \"SK\": \"Slovakia\", \"BZ\": \"Belize\", \"CA\": \"Canada\", \"SV\": \"El Salvador\",\n",
    "    \"CH\": \"Switzerland\", \"SZ\": \"Eswatini\", \"CL\": \"Chile\", \"CN\": \"China\",\n",
    "    \"CO\": \"Colombia\", \"CR\": \"Costa Rica\", \"TH\": \"Thailand\", \"CY\": \"Cyprus\",\n",
    "    \"CZ\": \"Czech Republic\", \"TR\": \"Turkey\", \"DE\": \"Germany\", \"TW\": \"Taiwan\",\n",
    "    \"TZ\": \"Tanzania\", \"DK\": \"Denmark\", \"DO\": \"Dominican Republic\", \"UA\": \"Ukraine\",\n",
    "    \"UG\": \"Uganda\", \"US\": \"United States\", \"EC\": \"Ecuador\", \"EE\": \"Estonia\",\n",
    "    \"EG\": \"Egypt\", \"UZ\": \"Uzbekistan\", \"ES\": \"Spain\", \"VE\": \"Venezuela\",\n",
    "    \"VG\": \"British Virgin Islands\", \"VN\": \"Vietnam\", \"FI\": \"Finland\", \"FR\": \"France\",\n",
    "    \"GB\": \"United Kingdom\", \"GE\": \"Georgia\", \"GH\": \"Ghana\", \"GN\": \"Guinea\",\n",
    "    \"GR\": \"Greece\", \"GT\": \"Guatemala\", \"HK\": \"Hong Kong\", \"HN\": \"Honduras\",\n",
    "    \"HR\": \"Croatia\", \"YE\": \"Yemen\", \"HU\": \"Hungary\", \"ID\": \"Indonesia\",\n",
    "    \"IE\": \"Ireland\", \"IL\": \"Israel\", \"IN\": \"India\", \"ZA\": \"South Africa\",\n",
    "    \"IQ\": \"Iraq\", \"IR\": \"Iran\", \"IS\": \"Iceland\", \"IT\": \"Italy\",\n",
    "    \"ZW\": \"Zimbabwe\", \"JO\": \"Jordan\", \"JP\": \"Japan\", \"KE\": \"Kenya\",\n",
    "    \"KG\": \"Kyrgyzstan\", \"KH\": \"Cambodia\", \"KN\": \"Saint Kitts and Nevis\", \"KR\": \"South Korea\",\n",
    "    \"KZ\": \"Kazakhstan\", \"LB\": \"Lebanon\", \"LK\": \"Sri Lanka\", \"LT\": \"Lithuania\",\n",
    "    \"LU\": \"Luxembourg\", \"LV\": \"Latvia\", \"LY\": \"Libya\", \"MD\": \"Moldova\",\n",
    "    \"MM\": \"Myanmar\", \"MN\": \"Mongolia\", \"MT\": \"Malta\", \"MV\": \"Maldives\",\n",
    "    \"MX\": \"Mexico\", \"MY\": \"Malaysia\", \"MZ\": \"Mozambique\", \"NG\": \"Nigeria\",\n",
    "    \"NI\": \"Nicaragua\", \"NL\": \"Netherlands\", \"NO\": \"Norway\", \"NP\": \"Nepal\",\n",
    "    \"NZ\": \"New Zealand\", \"OM\": \"Oman\", \"PA\": \"Panama\", \"PE\": \"Peru\",\n",
    "    \"PG\": \"Papua New Guinea\", \"PH\": \"Philippines\", \"PK\": \"Pakistan\", \"PL\": \"Poland\",\n",
    "    'NaN': 'NaN'  # Represents missing or undefined country\n",
    "}"
   ]
  },
  {
   "cell_type": "markdown",
   "id": "ae203ed6-7f9d-429f-a3b3-3353612dd732",
   "metadata": {},
   "source": [
    "### DataFrame - Trasform Country Codes to Country Names"
   ]
  },
  {
   "cell_type": "code",
   "execution_count": 5,
   "id": "b6fe6129-4fa6-44e3-bdd7-7e93897396cb",
   "metadata": {},
   "outputs": [],
   "source": [
    "# final output dataFrame for this cell = cntry_loss\n",
    "\n",
    "cntry_loss = df_loss.copy() #copy df\n",
    "cntry_loss = cntry_loss.rename(columns = {'Country' :'Country Code'}).sort_values(by = 'Country Code') # rename column and sort \n",
    "#print(cntry_loss.loc[103]) \n",
    "#print(cntry_loss.shape)\n",
    "cntry_loss = cntry_loss.dropna() # delete the nan columns\n",
    "#cntry_loss = cntry_loss.drop(axis = 0, index = 103) # delete the nan column\n",
    "#print(cntry_loss.shape)\n",
    "\n",
    "column = cntry_loss['Country Code'] # define column variable\n",
    "\n",
    "# create empty lists\n",
    "country_col = []\n",
    "country_id = []\n",
    "# create a 3 digit country ID \n",
    "value = 100 \n",
    "\n",
    "for i in column: \n",
    "    #print(country_codes[i])\n",
    "    # from list append \n",
    "    country_col.append(country_codes[i])\n",
    "    value += 1\n",
    "    country_id.append((value))\n",
    "\n",
    "# create new columns\n",
    "cntry_loss.insert(loc = 1, column = 'Country', value = country_col)\n",
    "cntry_loss.insert(loc = 1, column = 'Country ID', value = country_id)\n",
    "\n",
    "# Copilot soln without the loop\n",
    "# cntry_loss['Country'] = cntry_loss['Country Code'].map(country_codes)"
   ]
  },
  {
   "cell_type": "markdown",
   "id": "92415350-3e7a-4127-9d1a-5dd5c40e2b63",
   "metadata": {},
   "source": [
    "### Join DataFrames"
   ]
  },
  {
   "cell_type": "code",
   "execution_count": 12,
   "id": "bb0ac46a-f49f-4561-85c0-113511382f54",
   "metadata": {},
   "outputs": [
    {
     "data": {
      "text/html": [
       "<div>\n",
       "<style scoped>\n",
       "    .dataframe tbody tr th:only-of-type {\n",
       "        vertical-align: middle;\n",
       "    }\n",
       "\n",
       "    .dataframe tbody tr th {\n",
       "        vertical-align: top;\n",
       "    }\n",
       "\n",
       "    .dataframe thead th {\n",
       "        text-align: right;\n",
       "    }\n",
       "</style>\n",
       "<table border=\"1\" class=\"dataframe\">\n",
       "  <thead>\n",
       "    <tr style=\"text-align: right;\">\n",
       "      <th></th>\n",
       "      <th>Population</th>\n",
       "      <th>GDP</th>\n",
       "    </tr>\n",
       "    <tr>\n",
       "      <th>Country</th>\n",
       "      <th></th>\n",
       "      <th></th>\n",
       "    </tr>\n",
       "  </thead>\n",
       "  <tbody>\n",
       "    <tr>\n",
       "      <th>Afghanistan</th>\n",
       "      <td>38,041,754</td>\n",
       "      <td>$19,101,353,833</td>\n",
       "    </tr>\n",
       "    <tr>\n",
       "      <th>Albania</th>\n",
       "      <td>2,854,191</td>\n",
       "      <td>$15,278,077,447</td>\n",
       "    </tr>\n",
       "    <tr>\n",
       "      <th>Algeria</th>\n",
       "      <td>43,053,054</td>\n",
       "      <td>$169,988,236,398</td>\n",
       "    </tr>\n",
       "    <tr>\n",
       "      <th>Andorra</th>\n",
       "      <td>77,142</td>\n",
       "      <td>$3,154,057,987</td>\n",
       "    </tr>\n",
       "    <tr>\n",
       "      <th>Angola</th>\n",
       "      <td>31,825,295</td>\n",
       "      <td>$94,635,415,870</td>\n",
       "    </tr>\n",
       "    <tr>\n",
       "      <th>...</th>\n",
       "      <td>...</td>\n",
       "      <td>...</td>\n",
       "    </tr>\n",
       "    <tr>\n",
       "      <th>Venezuela</th>\n",
       "      <td>28,515,829</td>\n",
       "      <td>$482,359,318,768</td>\n",
       "    </tr>\n",
       "    <tr>\n",
       "      <th>Vietnam</th>\n",
       "      <td>96,462,106</td>\n",
       "      <td>$261,921,244,843</td>\n",
       "    </tr>\n",
       "    <tr>\n",
       "      <th>Yemen</th>\n",
       "      <td>29,161,922</td>\n",
       "      <td>$26,914,402,224</td>\n",
       "    </tr>\n",
       "    <tr>\n",
       "      <th>Zambia</th>\n",
       "      <td>17,861,030</td>\n",
       "      <td>$23,064,722,446</td>\n",
       "    </tr>\n",
       "    <tr>\n",
       "      <th>Zimbabwe</th>\n",
       "      <td>14,645,468</td>\n",
       "      <td>$21,440,758,800</td>\n",
       "    </tr>\n",
       "  </tbody>\n",
       "</table>\n",
       "<p>195 rows × 2 columns</p>\n",
       "</div>"
      ],
      "text/plain": [
       "             Population                GDP\n",
       "Country                                   \n",
       "Afghanistan  38,041,754   $19,101,353,833 \n",
       "Albania       2,854,191   $15,278,077,447 \n",
       "Algeria      43,053,054  $169,988,236,398 \n",
       "Andorra          77,142    $3,154,057,987 \n",
       "Angola       31,825,295   $94,635,415,870 \n",
       "...                 ...                ...\n",
       "Venezuela    28,515,829  $482,359,318,768 \n",
       "Vietnam      96,462,106  $261,921,244,843 \n",
       "Yemen        29,161,922   $26,914,402,224 \n",
       "Zambia       17,861,030   $23,064,722,446 \n",
       "Zimbabwe     14,645,468   $21,440,758,800 \n",
       "\n",
       "[195 rows x 2 columns]"
      ]
     },
     "execution_count": 12,
     "metadata": {},
     "output_type": "execute_result"
    }
   ],
   "source": [
    "cntry_wrld"
   ]
  },
  {
   "cell_type": "code",
   "execution_count": 15,
   "id": "ec8938cb-1cd0-4edd-ae0c-e4a3e5056616",
   "metadata": {},
   "outputs": [
    {
     "ename": "KeyError",
     "evalue": "\"None of ['Country'] are in the columns\"",
     "output_type": "error",
     "traceback": [
      "\u001b[31m---------------------------------------------------------------------------\u001b[39m",
      "\u001b[31mKeyError\u001b[39m                                  Traceback (most recent call last)",
      "\u001b[32m~\\AppData\\Local\\Temp\\1\\ipykernel_13492\\3772659547.py\u001b[39m in \u001b[36m?\u001b[39m\u001b[34m()\u001b[39m\n\u001b[32m      1\u001b[39m \u001b[38;5;66;03m# final output dataFrame for this cell = df_join_og\u001b[39;00m\n\u001b[32m      2\u001b[39m \n\u001b[32m      3\u001b[39m \u001b[38;5;66;03m# set up dfs on Country index\u001b[39;00m\n\u001b[32m----> \u001b[39m\u001b[32m4\u001b[39m cntry_loss = cntry_loss.set_index(\u001b[33m'Country'\u001b[39m).sort_index()\n\u001b[32m      5\u001b[39m cntry_wrld = df_world.sort_index()[[\u001b[33m'Population'\u001b[39m, \u001b[33m'GDP'\u001b[39m]]\n\u001b[32m      6\u001b[39m \n\u001b[32m      7\u001b[39m \n",
      "\u001b[32m~\\AppData\\Local\\Programs\\Python\\Python313\\Lib\\site-packages\\pandas\\core\\frame.py\u001b[39m in \u001b[36m?\u001b[39m\u001b[34m(self, keys, drop, append, inplace, verify_integrity)\u001b[39m\n\u001b[32m   6125\u001b[39m                     \u001b[38;5;28;01mif\u001b[39;00m \u001b[38;5;28;01mnot\u001b[39;00m found:\n\u001b[32m   6126\u001b[39m                         missing.append(col)\n\u001b[32m   6127\u001b[39m \n\u001b[32m   6128\u001b[39m         \u001b[38;5;28;01mif\u001b[39;00m missing:\n\u001b[32m-> \u001b[39m\u001b[32m6129\u001b[39m             \u001b[38;5;28;01mraise\u001b[39;00m KeyError(f\"None of {missing} are in the columns\")\n\u001b[32m   6130\u001b[39m \n\u001b[32m   6131\u001b[39m         \u001b[38;5;28;01mif\u001b[39;00m inplace:\n\u001b[32m   6132\u001b[39m             frame = self\n",
      "\u001b[31mKeyError\u001b[39m: \"None of ['Country'] are in the columns\""
     ]
    }
   ],
   "source": [
    "# final output dataFrame for this cell = df_join_og\n",
    "\n",
    "# set up dfs on Country index \n",
    "cntry_loss = cntry_loss.set_index('Country').sort_index()\n",
    "cntry_wrld = df_world.sort_index()[['Population', 'GDP']]\n",
    "\n",
    "\n",
    "\n",
    "# df.join() is for joining the dfs by indeces \n",
    "df_join_og = cntry_wrld.join(cntry_loss, lsuffix = '_l', how = 'outer')"
   ]
  },
  {
   "cell_type": "code",
   "execution_count": null,
   "id": "ea75e9d3-b7ee-4383-aaa8-1286b70f7b9c",
   "metadata": {},
   "outputs": [],
   "source": [
    "df_join_og"
   ]
  },
  {
   "cell_type": "markdown",
   "id": "94254ed1-a737-431d-a991-59ee01acf543",
   "metadata": {},
   "source": [
    "### Create a final df for plotting: df_full"
   ]
  },
  {
   "cell_type": "code",
   "execution_count": 31,
   "id": "f52d421a-7c0e-4f09-9b3c-5de86c13c2ce",
   "metadata": {},
   "outputs": [],
   "source": [
    "# final output dataFrame for this cell = df_full\n",
    "\n",
    "df_full = df_join_og.copy()\n",
    "df_full['24-23_Com'] = df_full['2024_Complaints'] - df_full['2023_Complaints']"
   ]
  },
  {
   "cell_type": "markdown",
   "id": "477dff35-dfa7-4627-897f-3be107ff7586",
   "metadata": {},
   "source": [
    "## Start Plotting"
   ]
  },
  {
   "cell_type": "code",
   "execution_count": null,
   "id": "74f30d9d-f472-4ad2-9954-d5ff22de2f25",
   "metadata": {},
   "outputs": [],
   "source": []
  }
 ],
 "metadata": {
  "kernelspec": {
   "display_name": "Python 3 (ipykernel)",
   "language": "python",
   "name": "python3"
  },
  "language_info": {
   "codemirror_mode": {
    "name": "ipython",
    "version": 3
   },
   "file_extension": ".py",
   "mimetype": "text/x-python",
   "name": "python",
   "nbconvert_exporter": "python",
   "pygments_lexer": "ipython3",
   "version": "3.13.2"
  }
 },
 "nbformat": 4,
 "nbformat_minor": 5
}
